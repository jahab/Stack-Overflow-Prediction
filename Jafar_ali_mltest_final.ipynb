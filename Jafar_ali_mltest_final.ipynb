{
  "nbformat": 4,
  "nbformat_minor": 0,
  "metadata": {
    "colab": {
      "name": "Jafar ali mltest.ipynb",
      "version": "0.3.2",
      "provenance": [],
      "collapsed_sections": []
    },
    "kernelspec": {
      "name": "python3",
      "display_name": "Python 3"
    }
  },
  "cells": [
    {
      "cell_type": "markdown",
      "metadata": {
        "id": "oOY2xVH8RA9R",
        "colab_type": "text"
      },
      "source": [
        "LinkedIn Profile https://in.linkedin.com/in/jafar-ali-habshee-97242949"
      ]
    },
    {
      "cell_type": "markdown",
      "metadata": {
        "id": "5LeU19FqIpaj",
        "colab_type": "text"
      },
      "source": [
        "## Please Run all the cells below before starting with model building"
      ]
    },
    {
      "cell_type": "markdown",
      "metadata": {
        "id": "BbrZSL4Ux_G7",
        "colab_type": "text"
      },
      "source": [
        "## Authenticate using your gmail id\n",
        "### Run the below cell. After running the cell one link will appear -> Click on Link -> login using your gmail id ->copy the code -> paste it in the box -> done"
      ]
    },
    {
      "cell_type": "code",
      "metadata": {
        "id": "6EZOCX0L9bH4",
        "colab_type": "code",
        "outputId": "e2a42437-bd5b-417c-f6b6-c082cf6bcd15",
        "colab": {
          "base_uri": "https://localhost:8080/",
          "height": 35
        }
      },
      "source": [
        "from google.colab import auth\n",
        "auth.authenticate_user()\n",
        "print('Authenticated')"
      ],
      "execution_count": 1,
      "outputs": [
        {
          "output_type": "stream",
          "text": [
            "Authenticated\n"
          ],
          "name": "stdout"
        }
      ]
    },
    {
      "cell_type": "markdown",
      "metadata": {
        "id": "_NpqXhVlyMyc",
        "colab_type": "text"
      },
      "source": [
        "## Counting no. of rows in a table\n",
        "### Sample Code"
      ]
    },
    {
      "cell_type": "code",
      "metadata": {
        "id": "-ab83W-i962p",
        "colab_type": "code",
        "outputId": "60f935e7-e979-46bc-8eda-5eaf18cac7bb",
        "colab": {
          "base_uri": "https://localhost:8080/",
          "height": 81
        }
      },
      "source": [
        "%%bigquery --project bq-storage-flask-app df\n",
        "SELECT \n",
        "  COUNT(*) as total_rows\n",
        "FROM `bigquery-public-data.stackoverflow.posts_questions`"
      ],
      "execution_count": 2,
      "outputs": [
        {
          "output_type": "execute_result",
          "data": {
            "text/html": [
              "<div>\n",
              "<style scoped>\n",
              "    .dataframe tbody tr th:only-of-type {\n",
              "        vertical-align: middle;\n",
              "    }\n",
              "\n",
              "    .dataframe tbody tr th {\n",
              "        vertical-align: top;\n",
              "    }\n",
              "\n",
              "    .dataframe thead th {\n",
              "        text-align: right;\n",
              "    }\n",
              "</style>\n",
              "<table border=\"1\" class=\"dataframe\">\n",
              "  <thead>\n",
              "    <tr style=\"text-align: right;\">\n",
              "      <th></th>\n",
              "      <th>total_rows</th>\n",
              "    </tr>\n",
              "  </thead>\n",
              "  <tbody>\n",
              "    <tr>\n",
              "      <th>0</th>\n",
              "      <td>17278709</td>\n",
              "    </tr>\n",
              "  </tbody>\n",
              "</table>\n",
              "</div>"
            ],
            "text/plain": [
              "   total_rows\n",
              "0    17278709"
            ]
          },
          "metadata": {
            "tags": []
          },
          "execution_count": 2
        }
      ]
    },
    {
      "cell_type": "markdown",
      "metadata": {
        "id": "wxAxTyFbyViS",
        "colab_type": "text"
      },
      "source": [
        "## Setting up project Id globally"
      ]
    },
    {
      "cell_type": "code",
      "metadata": {
        "id": "S6DEHP1TS_SQ",
        "colab_type": "code",
        "colab": {}
      },
      "source": [
        "project_id = 'bq-storage-flask-app'"
      ],
      "execution_count": 0,
      "outputs": []
    },
    {
      "cell_type": "markdown",
      "metadata": {
        "id": "wpKUue7ryYqb",
        "colab_type": "text"
      },
      "source": [
        "## Selecting approximately 2000 random rows from question dataset\n"
      ]
    },
    {
      "cell_type": "code",
      "metadata": {
        "id": "a_j2umFoPkcI",
        "colab_type": "code",
        "outputId": "c2b85e3e-a1ec-445f-bf33-59d04b1b4eab",
        "colab": {
          "base_uri": "https://localhost:8080/",
          "height": 452
        }
      },
      "source": [
        "from google.cloud import bigquery\n",
        "\n",
        "client = bigquery.Client(project=project_id)\n",
        "\n",
        "sample_count = 2000\n",
        "row_count = client.query('''\n",
        "  SELECT \n",
        "    COUNT(*) as total\n",
        "  FROM `bigquery-public-data.stackoverflow.posts_questions`''').to_dataframe().total[0]\n",
        "\n",
        "df_questions = client.query('''\n",
        "  SELECT\n",
        "    *\n",
        "  FROM\n",
        "   `bigquery-public-data.stackoverflow.posts_questions`\n",
        "  WHERE RAND() < %d/%d\n",
        "''' % (sample_count, row_count)).to_dataframe()\n",
        "\n",
        "#print('Full dataset has %d rows' % row_count)\n",
        "df_questions.head()"
      ],
      "execution_count": 4,
      "outputs": [
        {
          "output_type": "execute_result",
          "data": {
            "text/html": [
              "<div>\n",
              "<style scoped>\n",
              "    .dataframe tbody tr th:only-of-type {\n",
              "        vertical-align: middle;\n",
              "    }\n",
              "\n",
              "    .dataframe tbody tr th {\n",
              "        vertical-align: top;\n",
              "    }\n",
              "\n",
              "    .dataframe thead th {\n",
              "        text-align: right;\n",
              "    }\n",
              "</style>\n",
              "<table border=\"1\" class=\"dataframe\">\n",
              "  <thead>\n",
              "    <tr style=\"text-align: right;\">\n",
              "      <th></th>\n",
              "      <th>id</th>\n",
              "      <th>title</th>\n",
              "      <th>body</th>\n",
              "      <th>accepted_answer_id</th>\n",
              "      <th>answer_count</th>\n",
              "      <th>comment_count</th>\n",
              "      <th>community_owned_date</th>\n",
              "      <th>creation_date</th>\n",
              "      <th>favorite_count</th>\n",
              "      <th>last_activity_date</th>\n",
              "      <th>last_edit_date</th>\n",
              "      <th>last_editor_display_name</th>\n",
              "      <th>last_editor_user_id</th>\n",
              "      <th>owner_display_name</th>\n",
              "      <th>owner_user_id</th>\n",
              "      <th>post_type_id</th>\n",
              "      <th>score</th>\n",
              "      <th>tags</th>\n",
              "      <th>view_count</th>\n",
              "    </tr>\n",
              "  </thead>\n",
              "  <tbody>\n",
              "    <tr>\n",
              "      <th>0</th>\n",
              "      <td>41819735</td>\n",
              "      <td>What is the difference between SessionBundlePr...</td>\n",
              "      <td>&lt;p&gt;As I read in the source code, &lt;code&gt;Session...</td>\n",
              "      <td>NaN</td>\n",
              "      <td>1</td>\n",
              "      <td>0</td>\n",
              "      <td>NaT</td>\n",
              "      <td>2017-01-24 03:54:00.183000+00:00</td>\n",
              "      <td>NaN</td>\n",
              "      <td>2017-09-08 15:16:47.183000+00:00</td>\n",
              "      <td>2017-07-06 01:14:33.033000+00:00</td>\n",
              "      <td></td>\n",
              "      <td>5685754.0</td>\n",
              "      <td></td>\n",
              "      <td>5685754.0</td>\n",
              "      <td>1</td>\n",
              "      <td>0</td>\n",
              "      <td>tensorflow-serving</td>\n",
              "      <td>59</td>\n",
              "    </tr>\n",
              "    <tr>\n",
              "      <th>1</th>\n",
              "      <td>29097225</td>\n",
              "      <td>Can I chain @BindBean params?</td>\n",
              "      <td>&lt;p&gt;&lt;code&gt;@BindBean&lt;/code&gt; allows me to use pro...</td>\n",
              "      <td>NaN</td>\n",
              "      <td>0</td>\n",
              "      <td>2</td>\n",
              "      <td>NaT</td>\n",
              "      <td>2015-03-17 10:52:23.657000+00:00</td>\n",
              "      <td>1.0</td>\n",
              "      <td>2015-03-17 10:52:23.657000+00:00</td>\n",
              "      <td>NaT</td>\n",
              "      <td></td>\n",
              "      <td>NaN</td>\n",
              "      <td></td>\n",
              "      <td>716027.0</td>\n",
              "      <td>1</td>\n",
              "      <td>2</td>\n",
              "      <td>java|jdbc|jdbi</td>\n",
              "      <td>101</td>\n",
              "    </tr>\n",
              "    <tr>\n",
              "      <th>2</th>\n",
              "      <td>53333415</td>\n",
              "      <td>Algorithm that increases randomness?</td>\n",
              "      <td>&lt;p&gt;Suppose i provide you with &lt;strong&gt;random s...</td>\n",
              "      <td>53340582.0</td>\n",
              "      <td>3</td>\n",
              "      <td>1</td>\n",
              "      <td>NaT</td>\n",
              "      <td>2018-11-16 07:41:46.897000+00:00</td>\n",
              "      <td>NaN</td>\n",
              "      <td>2018-11-16 15:35:06.027000+00:00</td>\n",
              "      <td>NaT</td>\n",
              "      <td></td>\n",
              "      <td>NaN</td>\n",
              "      <td></td>\n",
              "      <td>7946599.0</td>\n",
              "      <td>1</td>\n",
              "      <td>-3</td>\n",
              "      <td>random</td>\n",
              "      <td>39</td>\n",
              "    </tr>\n",
              "    <tr>\n",
              "      <th>3</th>\n",
              "      <td>12997742</td>\n",
              "      <td>Java Swing: Implementing a validity check of i...</td>\n",
              "      <td>&lt;p&gt;In my Swing application, the user must inse...</td>\n",
              "      <td>12997850.0</td>\n",
              "      <td>4</td>\n",
              "      <td>0</td>\n",
              "      <td>NaT</td>\n",
              "      <td>2012-10-21 12:19:34+00:00</td>\n",
              "      <td>4.0</td>\n",
              "      <td>2014-04-02 18:07:54.243000+00:00</td>\n",
              "      <td>2014-04-02 18:07:54.243000+00:00</td>\n",
              "      <td></td>\n",
              "      <td>125389.0</td>\n",
              "      <td></td>\n",
              "      <td>1339620.0</td>\n",
              "      <td>1</td>\n",
              "      <td>8</td>\n",
              "      <td>java|swing|input</td>\n",
              "      <td>12644</td>\n",
              "    </tr>\n",
              "    <tr>\n",
              "      <th>4</th>\n",
              "      <td>22225349</td>\n",
              "      <td>NServiceBus handler turning up with empty mess...</td>\n",
              "      <td>&lt;p&gt;I got a issue with NServiceBus 4.4.2, which...</td>\n",
              "      <td>22300390.0</td>\n",
              "      <td>2</td>\n",
              "      <td>3</td>\n",
              "      <td>NaT</td>\n",
              "      <td>2014-03-06 13:01:56.297000+00:00</td>\n",
              "      <td>1.0</td>\n",
              "      <td>2014-03-10 12:40:10.303000+00:00</td>\n",
              "      <td>NaT</td>\n",
              "      <td></td>\n",
              "      <td>NaN</td>\n",
              "      <td></td>\n",
              "      <td>3058441.0</td>\n",
              "      <td>1</td>\n",
              "      <td>3</td>\n",
              "      <td>c#|xml|json|nservicebus</td>\n",
              "      <td>901</td>\n",
              "    </tr>\n",
              "  </tbody>\n",
              "</table>\n",
              "</div>"
            ],
            "text/plain": [
              "         id  ... view_count\n",
              "0  41819735  ...         59\n",
              "1  29097225  ...        101\n",
              "2  53333415  ...         39\n",
              "3  12997742  ...      12644\n",
              "4  22225349  ...        901\n",
              "\n",
              "[5 rows x 19 columns]"
            ]
          },
          "metadata": {
            "tags": []
          },
          "execution_count": 4
        }
      ]
    },
    {
      "cell_type": "markdown",
      "metadata": {
        "id": "lQdQ6QMMy619",
        "colab_type": "text"
      },
      "source": [
        "## Selecting approximately 2000 random rows from answer dataset"
      ]
    },
    {
      "cell_type": "code",
      "metadata": {
        "id": "T1ANJj14M31D",
        "colab_type": "code",
        "outputId": "39836de1-30cd-4cf1-b948-bfec33f91743",
        "colab": {
          "base_uri": "https://localhost:8080/",
          "height": 660
        }
      },
      "source": [
        "from google.cloud import bigquery\n",
        "\n",
        "client = bigquery.Client(project=project_id)\n",
        "\n",
        "sample_count = 2000\n",
        "row_count = client.query('''\n",
        "  SELECT \n",
        "    COUNT(*) as total\n",
        "  FROM `bigquery-public-data.stackoverflow.posts_answers`''').to_dataframe().total[0]\n",
        "\n",
        "df_answers = client.query('''\n",
        "  SELECT\n",
        "    *\n",
        "  FROM\n",
        "    `bigquery-public-data.stackoverflow.posts_answers`\n",
        "  WHERE RAND() < %d/%d\n",
        "''' % (sample_count, row_count)).to_dataframe()\n",
        "\n",
        "df_answers.head()"
      ],
      "execution_count": 5,
      "outputs": [
        {
          "output_type": "execute_result",
          "data": {
            "text/html": [
              "<div>\n",
              "<style scoped>\n",
              "    .dataframe tbody tr th:only-of-type {\n",
              "        vertical-align: middle;\n",
              "    }\n",
              "\n",
              "    .dataframe tbody tr th {\n",
              "        vertical-align: top;\n",
              "    }\n",
              "\n",
              "    .dataframe thead th {\n",
              "        text-align: right;\n",
              "    }\n",
              "</style>\n",
              "<table border=\"1\" class=\"dataframe\">\n",
              "  <thead>\n",
              "    <tr style=\"text-align: right;\">\n",
              "      <th></th>\n",
              "      <th>id</th>\n",
              "      <th>body</th>\n",
              "      <th>comment_count</th>\n",
              "      <th>community_owned_date</th>\n",
              "      <th>creation_date</th>\n",
              "      <th>last_activity_date</th>\n",
              "      <th>last_edit_date</th>\n",
              "      <th>last_editor_display_name</th>\n",
              "      <th>last_editor_user_id</th>\n",
              "      <th>owner_display_name</th>\n",
              "      <th>owner_user_id</th>\n",
              "      <th>parent_id</th>\n",
              "      <th>post_type_id</th>\n",
              "      <th>score</th>\n",
              "      <th>tags</th>\n",
              "    </tr>\n",
              "  </thead>\n",
              "  <tbody>\n",
              "    <tr>\n",
              "      <th>0</th>\n",
              "      <td>13151607</td>\n",
              "      <td>&lt;p&gt;How about appending a span element to the c...</td>\n",
              "      <td>1</td>\n",
              "      <td>NaT</td>\n",
              "      <td>2012-10-31 05:11:08.630000+00:00</td>\n",
              "      <td>2012-10-31 05:16:37.090000+00:00</td>\n",
              "      <td>2012-10-31 05:16:37.090000+00:00</td>\n",
              "      <td></td>\n",
              "      <td>168762.0</td>\n",
              "      <td></td>\n",
              "      <td>168762.0</td>\n",
              "      <td>128342</td>\n",
              "      <td>2</td>\n",
              "      <td>-1</td>\n",
              "      <td></td>\n",
              "    </tr>\n",
              "    <tr>\n",
              "      <th>1</th>\n",
              "      <td>17634259</td>\n",
              "      <td>&lt;p&gt;You can get that attribute with the followi...</td>\n",
              "      <td>8</td>\n",
              "      <td>NaT</td>\n",
              "      <td>2013-07-13 21:10:45.330000+00:00</td>\n",
              "      <td>2013-07-13 22:48:36.423000+00:00</td>\n",
              "      <td>2013-07-13 22:48:36.423000+00:00</td>\n",
              "      <td></td>\n",
              "      <td>1614607.0</td>\n",
              "      <td></td>\n",
              "      <td>1614607.0</td>\n",
              "      <td>17634126</td>\n",
              "      <td>2</td>\n",
              "      <td>2</td>\n",
              "      <td></td>\n",
              "    </tr>\n",
              "    <tr>\n",
              "      <th>2</th>\n",
              "      <td>52271998</td>\n",
              "      <td>&lt;p&gt;First you have to define the context of the...</td>\n",
              "      <td>0</td>\n",
              "      <td>NaT</td>\n",
              "      <td>2018-09-11 08:41:31.163000+00:00</td>\n",
              "      <td>2018-09-11 08:41:31.163000+00:00</td>\n",
              "      <td>NaT</td>\n",
              "      <td></td>\n",
              "      <td>NaN</td>\n",
              "      <td></td>\n",
              "      <td>10346328.0</td>\n",
              "      <td>49750811</td>\n",
              "      <td>2</td>\n",
              "      <td>1</td>\n",
              "      <td></td>\n",
              "    </tr>\n",
              "    <tr>\n",
              "      <th>3</th>\n",
              "      <td>22926901</td>\n",
              "      <td>&lt;p&gt;In jQuery Mobile, a class gets applied to t...</td>\n",
              "      <td>2</td>\n",
              "      <td>NaT</td>\n",
              "      <td>2014-04-08 03:19:52.970000+00:00</td>\n",
              "      <td>2014-04-08 03:19:52.970000+00:00</td>\n",
              "      <td>NaT</td>\n",
              "      <td></td>\n",
              "      <td>NaN</td>\n",
              "      <td></td>\n",
              "      <td>3494680.0</td>\n",
              "      <td>22926840</td>\n",
              "      <td>2</td>\n",
              "      <td>8</td>\n",
              "      <td></td>\n",
              "    </tr>\n",
              "    <tr>\n",
              "      <th>4</th>\n",
              "      <td>39002547</td>\n",
              "      <td>&lt;p&gt;You are trying to reference an object that ...</td>\n",
              "      <td>0</td>\n",
              "      <td>NaT</td>\n",
              "      <td>2016-08-17 17:07:37.650000+00:00</td>\n",
              "      <td>2016-08-17 17:07:37.650000+00:00</td>\n",
              "      <td>NaT</td>\n",
              "      <td></td>\n",
              "      <td>NaN</td>\n",
              "      <td></td>\n",
              "      <td>6186333.0</td>\n",
              "      <td>39000968</td>\n",
              "      <td>2</td>\n",
              "      <td>0</td>\n",
              "      <td></td>\n",
              "    </tr>\n",
              "  </tbody>\n",
              "</table>\n",
              "</div>"
            ],
            "text/plain": [
              "         id                                               body  ...  score tags\n",
              "0  13151607  <p>How about appending a span element to the c...  ...     -1     \n",
              "1  17634259  <p>You can get that attribute with the followi...  ...      2     \n",
              "2  52271998  <p>First you have to define the context of the...  ...      1     \n",
              "3  22926901  <p>In jQuery Mobile, a class gets applied to t...  ...      8     \n",
              "4  39002547  <p>You are trying to reference an object that ...  ...      0     \n",
              "\n",
              "[5 rows x 15 columns]"
            ]
          },
          "metadata": {
            "tags": []
          },
          "execution_count": 5
        }
      ]
    },
    {
      "cell_type": "markdown",
      "metadata": {
        "id": "bd7_5QDc-INd",
        "colab_type": "text"
      },
      "source": [
        "## Merging the 2 datasets (Questions and Answers)\n",
        "Note : Only 1 month data has been taken here (i.e. '2018-12-01' and '2019-01-01'). You can change the date range between July 2008 to March 2019. (Date Format: \"yyyy-mm-dd\")"
      ]
    },
    {
      "cell_type": "code",
      "metadata": {
        "id": "aADBpa_5b6WI",
        "colab_type": "code",
        "outputId": "9f59d58f-9c48-4b8d-dc34-1e04beb2efd2",
        "colab": {
          "base_uri": "https://localhost:8080/",
          "height": 487
        }
      },
      "source": [
        "from google.cloud import bigquery\n",
        "\n",
        "client = bigquery.Client(project=project_id)\n",
        "\n",
        "\n",
        "df = client.query('''\n",
        "Select \n",
        "b.id as question_id, a.id as answer_id, title,b.body as question_body,a.body as answer_body,a.body accepted_answer_id, \n",
        "answer_count, b.comment_count as que_comment_count, a.comment_count as ans_comment_count, b.community_owned_date, b.creation_date as que_creation_date,a.creation_date as ans_creation_date, b.favorite_count, b.last_activity_date, b.last_edit_date as que_last_edit_date, \n",
        "a.last_edit_date as ans_last_edit_date, b.last_editor_display_name, b.last_editor_user_id,b.owner_user_id, b.post_type_id, b.score as que_score,a.score as ans_score, \n",
        "b.tags as que_tags,a.tags as ans_tags, view_count as que_view_count\n",
        "\n",
        "from\n",
        "(SELECT * FROM `bigquery-public-data.stackoverflow.posts_answers` \n",
        "where date(creation_date) between '2018-12-01' and '2019-01-01') as a\n",
        "left join\n",
        "(SELECT * FROM `bigquery-public-data.stackoverflow.posts_questions` \n",
        "where date(creation_date) between '2018-12-01' and '2019-01-01') as b\n",
        "\n",
        "on a.parent_id = b.id\n",
        "\n",
        "''').to_dataframe()\n",
        "\n",
        "df.head()\n",
        "\n"
      ],
      "execution_count": 6,
      "outputs": [
        {
          "output_type": "execute_result",
          "data": {
            "text/html": [
              "<div>\n",
              "<style scoped>\n",
              "    .dataframe tbody tr th:only-of-type {\n",
              "        vertical-align: middle;\n",
              "    }\n",
              "\n",
              "    .dataframe tbody tr th {\n",
              "        vertical-align: top;\n",
              "    }\n",
              "\n",
              "    .dataframe thead th {\n",
              "        text-align: right;\n",
              "    }\n",
              "</style>\n",
              "<table border=\"1\" class=\"dataframe\">\n",
              "  <thead>\n",
              "    <tr style=\"text-align: right;\">\n",
              "      <th></th>\n",
              "      <th>question_id</th>\n",
              "      <th>answer_id</th>\n",
              "      <th>title</th>\n",
              "      <th>question_body</th>\n",
              "      <th>answer_body</th>\n",
              "      <th>accepted_answer_id</th>\n",
              "      <th>answer_count</th>\n",
              "      <th>que_comment_count</th>\n",
              "      <th>ans_comment_count</th>\n",
              "      <th>community_owned_date</th>\n",
              "      <th>que_creation_date</th>\n",
              "      <th>ans_creation_date</th>\n",
              "      <th>favorite_count</th>\n",
              "      <th>last_activity_date</th>\n",
              "      <th>que_last_edit_date</th>\n",
              "      <th>ans_last_edit_date</th>\n",
              "      <th>last_editor_display_name</th>\n",
              "      <th>last_editor_user_id</th>\n",
              "      <th>owner_user_id</th>\n",
              "      <th>post_type_id</th>\n",
              "      <th>que_score</th>\n",
              "      <th>ans_score</th>\n",
              "      <th>que_tags</th>\n",
              "      <th>ans_tags</th>\n",
              "      <th>que_view_count</th>\n",
              "    </tr>\n",
              "  </thead>\n",
              "  <tbody>\n",
              "    <tr>\n",
              "      <th>0</th>\n",
              "      <td>53994497.0</td>\n",
              "      <td>53994565</td>\n",
              "      <td>How to select last N observation from each gro...</td>\n",
              "      <td>&lt;p&gt;Given a dataframe:&lt;/p&gt;\\n\\n&lt;pre&gt;&lt;code&gt;df &amp;lt...</td>\n",
              "      <td>&lt;p&gt;A base R option using &lt;code&gt;tapply&lt;/code&gt; i...</td>\n",
              "      <td>&lt;p&gt;A base R option using &lt;code&gt;tapply&lt;/code&gt; i...</td>\n",
              "      <td>4.0</td>\n",
              "      <td>1.0</td>\n",
              "      <td>0</td>\n",
              "      <td>None</td>\n",
              "      <td>2019-01-01 09:53:19.900000+00:00</td>\n",
              "      <td>2019-01-01 10:03:30.177000+00:00</td>\n",
              "      <td>1.0</td>\n",
              "      <td>2019-01-01 13:06:38.340000+00:00</td>\n",
              "      <td>NaT</td>\n",
              "      <td>NaT</td>\n",
              "      <td></td>\n",
              "      <td>NaN</td>\n",
              "      <td>1030099.0</td>\n",
              "      <td>1.0</td>\n",
              "      <td>1.0</td>\n",
              "      <td>1</td>\n",
              "      <td>r|dplyr</td>\n",
              "      <td></td>\n",
              "      <td>145.0</td>\n",
              "    </tr>\n",
              "    <tr>\n",
              "      <th>1</th>\n",
              "      <td>53798816.0</td>\n",
              "      <td>53799183</td>\n",
              "      <td>How can I print all executed subroutines?</td>\n",
              "      <td>&lt;p&gt;E.g. I have following Perl script &lt;/p&gt;\\n\\n&lt;...</td>\n",
              "      <td>&lt;p&gt;Thinking about debugging modules puts you o...</td>\n",
              "      <td>&lt;p&gt;Thinking about debugging modules puts you o...</td>\n",
              "      <td>3.0</td>\n",
              "      <td>2.0</td>\n",
              "      <td>4</td>\n",
              "      <td>None</td>\n",
              "      <td>2018-12-16 01:54:41.143000+00:00</td>\n",
              "      <td>2018-12-16 03:25:40.693000+00:00</td>\n",
              "      <td>1.0</td>\n",
              "      <td>2018-12-20 10:00:14.253000+00:00</td>\n",
              "      <td>2018-12-17 00:09:01.510000+00:00</td>\n",
              "      <td>2018-12-16 22:29:59.187000+00:00</td>\n",
              "      <td></td>\n",
              "      <td>1848654.0</td>\n",
              "      <td>1441592.0</td>\n",
              "      <td>1.0</td>\n",
              "      <td>4.0</td>\n",
              "      <td>4</td>\n",
              "      <td>perl|trace|call-graph</td>\n",
              "      <td></td>\n",
              "      <td>127.0</td>\n",
              "    </tr>\n",
              "    <tr>\n",
              "      <th>2</th>\n",
              "      <td>53688831.0</td>\n",
              "      <td>53690021</td>\n",
              "      <td>How to find counts of distinct objects using J...</td>\n",
              "      <td>&lt;p&gt;I have a list of Thing objects:&lt;/p&gt;\\n\\n&lt;pre...</td>\n",
              "      <td>&lt;p&gt;one could also use the &lt;code&gt;toMap&lt;/code&gt; c...</td>\n",
              "      <td>&lt;p&gt;one could also use the &lt;code&gt;toMap&lt;/code&gt; c...</td>\n",
              "      <td>2.0</td>\n",
              "      <td>0.0</td>\n",
              "      <td>0</td>\n",
              "      <td>None</td>\n",
              "      <td>2018-12-09 02:18:36.523000+00:00</td>\n",
              "      <td>2018-12-09 06:41:46.850000+00:00</td>\n",
              "      <td>1.0</td>\n",
              "      <td>2018-12-09 06:51:57.607000+00:00</td>\n",
              "      <td>2018-12-09 02:40:22.807000+00:00</td>\n",
              "      <td>2018-12-09 06:51:57.607000+00:00</td>\n",
              "      <td></td>\n",
              "      <td>68587.0</td>\n",
              "      <td>1015388.0</td>\n",
              "      <td>1.0</td>\n",
              "      <td>2.0</td>\n",
              "      <td>0</td>\n",
              "      <td>java|count|java-stream|distinct</td>\n",
              "      <td></td>\n",
              "      <td>108.0</td>\n",
              "    </tr>\n",
              "    <tr>\n",
              "      <th>3</th>\n",
              "      <td>53732973.0</td>\n",
              "      <td>53737311</td>\n",
              "      <td>npm ERR! 404 Not Found: har-validator@5.1.2</td>\n",
              "      <td>&lt;p&gt;After upgrading to angular7 the build in az...</td>\n",
              "      <td>&lt;p&gt;After doing a lot of testing I found that t...</td>\n",
              "      <td>&lt;p&gt;After doing a lot of testing I found that t...</td>\n",
              "      <td>1.0</td>\n",
              "      <td>0.0</td>\n",
              "      <td>2</td>\n",
              "      <td>None</td>\n",
              "      <td>2018-12-11 22:00:09.017000+00:00</td>\n",
              "      <td>2018-12-12 06:32:26.477000+00:00</td>\n",
              "      <td>NaN</td>\n",
              "      <td>2019-01-18 10:10:16.577000+00:00</td>\n",
              "      <td>2019-01-18 10:10:16.577000+00:00</td>\n",
              "      <td>NaT</td>\n",
              "      <td></td>\n",
              "      <td>4013033.0</td>\n",
              "      <td>4013033.0</td>\n",
              "      <td>1.0</td>\n",
              "      <td>3.0</td>\n",
              "      <td>9</td>\n",
              "      <td>azure|azure-web-sites|npm-install|angular7|bui...</td>\n",
              "      <td></td>\n",
              "      <td>1168.0</td>\n",
              "    </tr>\n",
              "    <tr>\n",
              "      <th>4</th>\n",
              "      <td>53570515.0</td>\n",
              "      <td>53577945</td>\n",
              "      <td>How to reset react-id-swiper each time event h...</td>\n",
              "      <td>&lt;p&gt;I'm using react-id-swiper module in react t...</td>\n",
              "      <td>&lt;p&gt;I found the solution by adding &lt;code&gt;rebuil...</td>\n",
              "      <td>&lt;p&gt;I found the solution by adding &lt;code&gt;rebuil...</td>\n",
              "      <td>3.0</td>\n",
              "      <td>0.0</td>\n",
              "      <td>0</td>\n",
              "      <td>None</td>\n",
              "      <td>2018-12-01 11:56:25.243000+00:00</td>\n",
              "      <td>2018-12-02 06:25:36.810000+00:00</td>\n",
              "      <td>NaN</td>\n",
              "      <td>2018-12-26 16:06:41.027000+00:00</td>\n",
              "      <td>2018-12-01 12:00:20.800000+00:00</td>\n",
              "      <td>NaT</td>\n",
              "      <td></td>\n",
              "      <td>7490367.0</td>\n",
              "      <td>6216530.0</td>\n",
              "      <td>1.0</td>\n",
              "      <td>2.0</td>\n",
              "      <td>0</td>\n",
              "      <td>javascript|reactjs|swiper</td>\n",
              "      <td></td>\n",
              "      <td>329.0</td>\n",
              "    </tr>\n",
              "  </tbody>\n",
              "</table>\n",
              "</div>"
            ],
            "text/plain": [
              "   question_id  answer_id  ... ans_tags que_view_count\n",
              "0   53994497.0   53994565  ...                   145.0\n",
              "1   53798816.0   53799183  ...                   127.0\n",
              "2   53688831.0   53690021  ...                   108.0\n",
              "3   53732973.0   53737311  ...                  1168.0\n",
              "4   53570515.0   53577945  ...                   329.0\n",
              "\n",
              "[5 rows x 25 columns]"
            ]
          },
          "metadata": {
            "tags": []
          },
          "execution_count": 6
        }
      ]
    },
    {
      "cell_type": "markdown",
      "metadata": {
        "id": "G0EWz8U3gPjn",
        "colab_type": "text"
      },
      "source": [
        "## Continue building your ML Model...All the Best!!"
      ]
    },
    {
      "cell_type": "markdown",
      "metadata": {
        "id": "UPfBGYf1Ju_g",
        "colab_type": "text"
      },
      "source": [
        "**Importing Libraries**"
      ]
    },
    {
      "cell_type": "code",
      "metadata": {
        "id": "-QN7CLZGgd01",
        "colab_type": "code",
        "colab": {}
      },
      "source": [
        "\n",
        "import numpy as np\n",
        "import pandas as pd\n",
        "from datetime import datetime\n",
        "import seaborn as sns\n",
        "import matplotlib.pyplot as plt\n"
      ],
      "execution_count": 0,
      "outputs": []
    },
    {
      "cell_type": "code",
      "metadata": {
        "id": "t-Yebb40lc0b",
        "colab_type": "code",
        "outputId": "8aea2dee-5bbd-42e8-b5ef-2fb52590c359",
        "colab": {
          "base_uri": "https://localhost:8080/",
          "height": 482
        }
      },
      "source": [
        "# Checking datatypes\n",
        "# This will also show if all time zones of Question and answer are same\n",
        "df.dtypes"
      ],
      "execution_count": 8,
      "outputs": [
        {
          "output_type": "execute_result",
          "data": {
            "text/plain": [
              "question_id                             float64\n",
              "answer_id                                 int64\n",
              "title                                    object\n",
              "question_body                            object\n",
              "answer_body                              object\n",
              "accepted_answer_id                       object\n",
              "answer_count                            float64\n",
              "que_comment_count                       float64\n",
              "ans_comment_count                         int64\n",
              "community_owned_date                     object\n",
              "que_creation_date           datetime64[ns, UTC]\n",
              "ans_creation_date           datetime64[ns, UTC]\n",
              "favorite_count                          float64\n",
              "last_activity_date          datetime64[ns, UTC]\n",
              "que_last_edit_date          datetime64[ns, UTC]\n",
              "ans_last_edit_date          datetime64[ns, UTC]\n",
              "last_editor_display_name                 object\n",
              "last_editor_user_id                     float64\n",
              "owner_user_id                           float64\n",
              "post_type_id                            float64\n",
              "que_score                               float64\n",
              "ans_score                                 int64\n",
              "que_tags                                 object\n",
              "ans_tags                                 object\n",
              "que_view_count                          float64\n",
              "dtype: object"
            ]
          },
          "metadata": {
            "tags": []
          },
          "execution_count": 8
        }
      ]
    },
    {
      "cell_type": "code",
      "metadata": {
        "id": "qJuNbq7jObY3",
        "colab_type": "code",
        "colab": {}
      },
      "source": [
        "nrow=df.shape[0]\n",
        "\n",
        "ncol=df.shape[1]\n"
      ],
      "execution_count": 0,
      "outputs": []
    },
    {
      "cell_type": "markdown",
      "metadata": {
        "id": "Qy2BkE-9OZyP",
        "colab_type": "text"
      },
      "source": [
        "**Finding the Time difference in days between Question date and Answer date**"
      ]
    },
    {
      "cell_type": "code",
      "metadata": {
        "id": "d8uEbN3BWy1c",
        "colab_type": "code",
        "outputId": "897d32fe-731a-438b-9927-75e9748e48d8",
        "colab": {
          "base_uri": "https://localhost:8080/",
          "height": 71
        }
      },
      "source": [
        "#Finding the Difference between time of question asked and the question answered\n",
        "\n",
        " \n",
        "ques_date= df.que_creation_date\n",
        "ans_date= df.ans_creation_date\n",
        "# strftime(\"%m-%d-%Y, %H:%M:%S, tz=%Z\")\n",
        "\n",
        "ques_date=ques_date.apply(lambda x:  x.strftime(\"%m-%d-%Y, %H:%M:%S, tz=%Z\"))\n",
        "\n",
        "ans_date=ans_date.apply(lambda x:  x.strftime(\"%m-%d-%Y, %H:%M:%S, tz=%Z\"))\n",
        "\n",
        "# print(type(ques_date.iloc[37268]))\n",
        "# datetime.strptime(ques_date.iloc[37268], \"%m-%d-%Y, %H:%M:%S, tz=%Z\")\n",
        "\n",
        "\n",
        "\n",
        "ques_date=ques_date.apply(lambda x: datetime.strptime(x, \"%m-%d-%Y, %H:%M:%S, tz=%Z\") if x!='NaT' else '')\n",
        "\n",
        "ans_date=ans_date.apply(lambda x:  datetime.strptime(x, \"%m-%d-%Y, %H:%M:%S, tz=%Z\") if  x!='NaT' else '')\n",
        "\n",
        "timediff=ans_date-ques_date\n",
        "print(\"There are cases where time diff turns out negative, Lets ignore them for now and consider the absolute of time diff \")\n",
        "\n",
        "timediff=timediff.apply(lambda x: x.total_seconds()/(60*60*24))\n",
        "print('indices where time time diff is negative')\n",
        "print(np.where(timediff<0))\n",
        "\n",
        "abs_timediff=timediff.copy()\n",
        "abs_timediff=abs(timediff)\n",
        "mean_reply_time=np.nanmean(abs_timediff)\n",
        "df['timediff_inDays']=abs_timediff\n",
        "bin_Y=timediff.copy()\n",
        "bin_Y[bin_Y<=7]=1\n",
        "bin_Y[bin_Y>7]=0\n",
        "bin_Y[bin_Y.isnull()]=2\n",
        "df['label']=bin_Y\n",
        "# print('There are two types of label created. One is binary label which states 1 if question is anwered within 7 days and 0 otherwise.')\n",
        "# print('The other label is called num_day. This states within how many days the answer is solved. For all the question which are answered after 7 days, they are labelled as 8')\n",
        "\n",
        "num_days=np.ceil(abs_timediff)\n",
        "num_days[num_days>7]=8\n",
        "df['num_days']=num_days"
      ],
      "execution_count": 45,
      "outputs": [
        {
          "output_type": "stream",
          "text": [
            "There are cases where time diff turns out negative, Lets ignore them for now and consider the absolute of time diff \n",
            "indices where time time diff is negative\n",
            "(array([8234, 8283, 8284, 8291, 8307, 8375]),)\n"
          ],
          "name": "stdout"
        }
      ]
    },
    {
      "cell_type": "markdown",
      "metadata": {
        "id": "Glc3QWOqKQsr",
        "colab_type": "text"
      },
      "source": [
        "\n",
        "There are two types of label created. One is **binary label** which states **1** if question is anwered within 7 days and **0** otherwise. The other label is called **num_day**. This states within how many days the answer is solved. For all the question which are answered after 7 days, they are labelled as 8.\n"
      ]
    },
    {
      "cell_type": "markdown",
      "metadata": {
        "id": "IZ4Vqc_POx5h",
        "colab_type": "text"
      },
      "source": [
        "**Finding on which day of the week the question was asked and the day when it was answered** "
      ]
    },
    {
      "cell_type": "code",
      "metadata": {
        "id": "XVb1vyfROybQ",
        "colab_type": "code",
        "colab": {}
      },
      "source": [
        "\n",
        "ques_weekday=ques_date.apply(lambda x: x.weekday() if pd.isnull(x)==False else np.nan)\n",
        "ans_weekday=ans_date.apply(lambda x: x.weekday() if pd.isnull(x)==False else np.nan)\n",
        "df['ques_weekday']=ques_weekday\n",
        "df['ans_weekday']=ans_weekday\n"
      ],
      "execution_count": 0,
      "outputs": []
    },
    {
      "cell_type": "markdown",
      "metadata": {
        "id": "vMshU08cP_Eu",
        "colab_type": "text"
      },
      "source": [
        "**Finding over all probility from the data or the percentage of times when question was answered**"
      ]
    },
    {
      "cell_type": "code",
      "metadata": {
        "id": "hOH3TrepqEQR",
        "colab_type": "code",
        "outputId": "90040652-cd46-4b2e-c28e-671a5f657f36",
        "colab": {
          "base_uri": "https://localhost:8080/",
          "height": 35
        }
      },
      "source": [
        "prob_pos=len(df['timediff_inDays'][df['timediff_inDays']<7])/nrow\n",
        "prob_neg=len(df['timediff_inDays'][df['timediff_inDays']>7])/nrow\n",
        "print('Percentage of times question was answered in less than seven days',prob_pos)"
      ],
      "execution_count": 47,
      "outputs": [
        {
          "output_type": "stream",
          "text": [
            "Percentage of times question was answered in less than seven days 0.7776874769117104\n"
          ],
          "name": "stdout"
        }
      ]
    },
    {
      "cell_type": "code",
      "metadata": {
        "id": "eAfc3d-v-YQr",
        "colab_type": "code",
        "outputId": "d6f02297-5e96-4f93-e1f8-12ddb1a3b14d",
        "colab": {
          "base_uri": "https://localhost:8080/",
          "height": 162
        }
      },
      "source": [
        "print('There are cases for which the question creation date-time and answer creation date-time are same. These are anomaly. However let us not consider them as anomaly. The indices are')\n",
        "print(df.num_days[df.num_days==0].head())\n"
      ],
      "execution_count": 48,
      "outputs": [
        {
          "output_type": "stream",
          "text": [
            "There are cases for which the question creation date-time and answer creation date-time are same. These are anomaly. However let us not consider them as anomaly. The indices are\n",
            "371     0.0\n",
            "574     0.0\n",
            "1303    0.0\n",
            "1379    0.0\n",
            "1638    0.0\n",
            "Name: num_days, dtype: float64\n"
          ],
          "name": "stdout"
        }
      ]
    },
    {
      "cell_type": "markdown",
      "metadata": {
        "id": "zsg0Ff6QLvpM",
        "colab_type": "text"
      },
      "source": [
        "**Checking if the Probability of Positive, Negative and Nan equates to 1**"
      ]
    },
    {
      "cell_type": "code",
      "metadata": {
        "id": "nQXbbYwqtILD",
        "colab_type": "code",
        "outputId": "3f0396a4-cc39-43f3-eace-575c5b3f4219",
        "colab": {
          "base_uri": "https://localhost:8080/",
          "height": 35
        }
      },
      "source": [
        "\n",
        "# len(df['timefiff_inDays'][df['timefiff_inDays']=='NaT'])\n",
        "np.isnan(df.timefiff_inDays.iloc[37268])\n",
        "prob_neg+prob_pos+sum(np.isnan(df.timefiff_inDays))/nrow"
      ],
      "execution_count": 50,
      "outputs": [
        {
          "output_type": "execute_result",
          "data": {
            "text/plain": [
              "1.0"
            ]
          },
          "metadata": {
            "tags": []
          },
          "execution_count": 50
        }
      ]
    },
    {
      "cell_type": "markdown",
      "metadata": {
        "id": "K4Jkm06d73Kt",
        "colab_type": "text"
      },
      "source": [
        "# Checking the trend how questions are answered based on length of question"
      ]
    },
    {
      "cell_type": "code",
      "metadata": {
        "id": "9c4x77QN8MNe",
        "colab_type": "code",
        "outputId": "3d1c3da0-b984-421a-f8cf-58219bc24fdc",
        "colab": {
          "base_uri": "https://localhost:8080/",
          "height": 53
        }
      },
      "source": [
        "def cats(x,med):\n",
        "  if x>0 and x<=50:\n",
        "    return 'very_low'\n",
        "  if x>50 and x<100:\n",
        "    return 'low'\n",
        "  if x>=100 and x<med+50:\n",
        "    return 'medium'\n",
        "  if x>=med+50 and x<250:\n",
        "    return 'high'\n",
        "  if x>=250:\n",
        "    return 'very_high'\n",
        "\n",
        "\n",
        "que_length=df.question_body.apply(lambda x: len(x.split()) if pd.isnull(x)==False else np.nan)\n",
        "\n",
        "df['que_length']=que_length\n",
        "print('Minimum question length is ',min(df['que_length']),'words.')\n",
        "print('Maximum question length is ',max(df['que_length']),'words.')\n",
        "#dividing question length in to 5 parts {very low}, {low},{medium1},{medium2},{high},{very high}\n",
        "divs=np.linspace(4,4367,5)\n",
        "\n",
        "cats=df['que_length'].apply(lambda x: cats(x,168) if np.isnan(x)==False else np.nan)\n",
        "# cats=pd.cut(np.array(df['que_length']),6, labels=[\"very_lo\", \"lo\", \"medium1\",\"medium2\",\"hi\",\"very_hi\"])\n",
        "# (que_length).mean()\n",
        "\n",
        "df['que_len_cat']=cats"
      ],
      "execution_count": 51,
      "outputs": [
        {
          "output_type": "stream",
          "text": [
            "Minimum question length is  4.0 words.\n",
            "Maximum question length is  4367.0 words.\n"
          ],
          "name": "stdout"
        }
      ]
    },
    {
      "cell_type": "code",
      "metadata": {
        "id": "sAvHzEOiN2Ue",
        "colab_type": "code",
        "colab": {}
      },
      "source": [
        "# len(df['que_len_cat'].dropna())"
      ],
      "execution_count": 0,
      "outputs": []
    },
    {
      "cell_type": "code",
      "metadata": {
        "id": "cXLDLr_I8MQm",
        "colab_type": "code",
        "outputId": "a8536950-11c9-4e4c-baa3-9d5225614950",
        "colab": {
          "base_uri": "https://localhost:8080/",
          "height": 314
        }
      },
      "source": [
        "sns.countplot(x=df['num_days'])\n",
        "plt.title('variation of number of days for answering the question')"
      ],
      "execution_count": 53,
      "outputs": [
        {
          "output_type": "execute_result",
          "data": {
            "text/plain": [
              "Text(0.5, 1.0, 'variation of number of days for answering the question')"
            ]
          },
          "metadata": {
            "tags": []
          },
          "execution_count": 53
        },
        {
          "output_type": "display_data",
          "data": {
            "image/png": "[encoded data removed]",
            "text/plain": [
              "<Figure size 432x288 with 1 Axes>"
            ]
          },
          "metadata": {
            "tags": []
          }
        }
      ]
    },
    {
      "cell_type": "code",
      "metadata": {
        "id": "SVoVfionQ5jC",
        "colab_type": "code",
        "outputId": "855f2b01-12a8-43c7-e49c-fdd3986f3ce8",
        "colab": {
          "base_uri": "https://localhost:8080/",
          "height": 315
        }
      },
      "source": [
        "sns.countplot(x=df['que_len_cat'])\n",
        "plt.title('variation of length of question(in words)')"
      ],
      "execution_count": 54,
      "outputs": [
        {
          "output_type": "execute_result",
          "data": {
            "text/plain": [
              "Text(0.5, 1.0, 'variation of length of question(in words)')"
            ]
          },
          "metadata": {
            "tags": []
          },
          "execution_count": 54
        },
        {
          "output_type": "display_data",
          "data": {
            "image/png": "[encoded data removed]",
            "text/plain": [
              "<Figure size 432x288 with 1 Axes>"
            ]
          },
          "metadata": {
            "tags": []
          }
        }
      ]
    },
    {
      "cell_type": "code",
      "metadata": {
        "id": "QQMZbeVFOWsw",
        "colab_type": "code",
        "outputId": "2a96ee1c-f2b5-4c0a-c36e-7ea34cfb34fe",
        "colab": {
          "base_uri": "https://localhost:8080/",
          "height": 584
        }
      },
      "source": [
        "fig=plt.figure(figsize=(15, 8), dpi= 80, facecolor='w', edgecolor='k')\n",
        "sns.countplot(x=df['que_len_cat'], hue=df.num_days)\n",
        "\n",
        "plt.title('How number of day vary with question length')"
      ],
      "execution_count": 55,
      "outputs": [
        {
          "output_type": "execute_result",
          "data": {
            "text/plain": [
              "Text(0.5, 1.0, 'How number of day vary with question length')"
            ]
          },
          "metadata": {
            "tags": []
          },
          "execution_count": 55
        },
        {
          "output_type": "display_data",
          "data": {
            "image/png": "[encoded data removed]",
            "text/plain": [
              "<Figure size 1200x640 with 1 Axes>"
            ]
          },
          "metadata": {
            "tags": []
          }
        }
      ]
    },
    {
      "cell_type": "markdown",
      "metadata": {
        "id": "BP88Ao2-8Qo7",
        "colab_type": "text"
      },
      "source": [
        "# Checking how questions are answered based on tag"
      ]
    },
    {
      "cell_type": "code",
      "metadata": {
        "id": "1o_isXOXGi2_",
        "colab_type": "code",
        "colab": {
          "base_uri": "https://localhost:8080/",
          "height": 35
        },
        "outputId": "0007d453-48b0-49e9-d222-500558827858"
      },
      "source": [
        "\n",
        "df.que_tags.iloc[1].split('|')[0]\n",
        "\n",
        "df.que_tags.fillna(value=pd.np.nan, inplace=True)\n",
        "first_tag=df.que_tags.apply(lambda x: x.split('|')[0] if pd.isnull(x)==False else np.nan)\n",
        "# pd.isnull(df.que_tags.iloc[37268])\n",
        "df['first_que_tag']=first_tag\n",
        "print('There are total ',len(first_tag.unique()),'unique first tags.')"
      ],
      "execution_count": 56,
      "outputs": [
        {
          "output_type": "stream",
          "text": [
            "There are total  2778 unique first tags.\n"
          ],
          "name": "stdout"
        }
      ]
    },
    {
      "cell_type": "code",
      "metadata": {
        "id": "SwZctjVlb318",
        "colab_type": "code",
        "outputId": "e2c4f114-d6ad-423b-c598-cc4f55961896",
        "colab": {
          "base_uri": "https://localhost:8080/",
          "height": 35
        }
      },
      "source": [
        "sum(pd.isnull(first_tag))\n",
        "pd.isnull(first_tag.iloc[37268])"
      ],
      "execution_count": 57,
      "outputs": [
        {
          "output_type": "execute_result",
          "data": {
            "text/plain": [
              "True"
            ]
          },
          "metadata": {
            "tags": []
          },
          "execution_count": 57
        }
      ]
    },
    {
      "cell_type": "code",
      "metadata": {
        "id": "c-ub3PjqH5EH",
        "colab_type": "code",
        "outputId": "1ea3ac79-cae4-4d5a-ddcb-8fb42b46334f",
        "colab": {
          "base_uri": "https://localhost:8080/",
          "height": 583
        }
      },
      "source": [
        "fig=plt.figure(figsize=(15, 8), dpi= 80, facecolor='w', edgecolor='k')\n",
        "sns.countplot(x=df['first_que_tag'])\n",
        "\n",
        "plt.title('Number of questions answered based on tag')\n",
        "# gp=df.groupby(['num_days','first_que_tag'])\n"
      ],
      "execution_count": 58,
      "outputs": [
        {
          "output_type": "execute_result",
          "data": {
            "text/plain": [
              "Text(0.5, 1.0, 'Number of questions answered based on tag')"
            ]
          },
          "metadata": {
            "tags": []
          },
          "execution_count": 58
        },
        {
          "output_type": "display_data",
          "data": {
            "image/png": "[encoded data removed]",
            "text/plain": [
              "<Figure size 1200x640 with 1 Axes>"
            ]
          },
          "metadata": {
            "tags": []
          }
        }
      ]
    },
    {
      "cell_type": "code",
      "metadata": {
        "id": "SYhH6Kb_aHHM",
        "colab_type": "code",
        "outputId": "15b2fbc0-6cfe-41db-9c8a-a2b7089341ca",
        "colab": {
          "base_uri": "https://localhost:8080/",
          "height": 124
        }
      },
      "source": [
        "# df.groupby(['num_days','first_que_tag']).count().plot(kind='bar')\n",
        "df.timediff_inDays.head()"
      ],
      "execution_count": 60,
      "outputs": [
        {
          "output_type": "execute_result",
          "data": {
            "text/plain": [
              "0    0.007072\n",
              "1    0.063183\n",
              "2    0.182755\n",
              "3    0.355752\n",
              "4    0.770266\n",
              "Name: timediff_inDays, dtype: float64"
            ]
          },
          "metadata": {
            "tags": []
          },
          "execution_count": 60
        }
      ]
    },
    {
      "cell_type": "code",
      "metadata": {
        "id": "_PeSsYvlhv8h",
        "colab_type": "code",
        "outputId": "050f2bc7-7f13-4cda-d7ca-b1b0ecb22513",
        "colab": {
          "base_uri": "https://localhost:8080/",
          "height": 231
        }
      },
      "source": [
        "df_new=df[['ques_weekday','que_length','que_len_cat','first_que_tag','num_days']].dropna()\n",
        "df_new2=df[['ques_weekday','que_length','que_len_cat','first_que_tag','label']].dropna()\n",
        "df_new3=df[['ques_weekday','que_length','que_len_cat','first_que_tag','timediff_inDays']].dropna()\n",
        "\n",
        "df_new = df_new.reset_index(drop=True)\n",
        "df_new2 = df_new2.reset_index(drop=True)\n",
        "df_new3 = df_new3.reset_index(drop=True)\n",
        "# df_new=df_new.drop([])\n",
        "print(df_new.head(3))\n",
        "print(df_new2.head(3))\n",
        "print(df_new3.head(3))"
      ],
      "execution_count": 64,
      "outputs": [
        {
          "output_type": "stream",
          "text": [
            "   ques_weekday  que_length que_len_cat first_que_tag  num_days\n",
            "0           1.0       107.0      medium             r       1.0\n",
            "1           6.0        98.0         low          perl       1.0\n",
            "2           6.0        65.0         low          java       1.0\n",
            "   ques_weekday  que_length que_len_cat first_que_tag  label\n",
            "0           1.0       107.0      medium             r    1.0\n",
            "1           6.0        98.0         low          perl    1.0\n",
            "2           6.0        65.0         low          java    1.0\n",
            "   ques_weekday  que_length que_len_cat first_que_tag  timediff_inDays\n",
            "0           1.0       107.0      medium             r         0.007072\n",
            "1           6.0        98.0         low          perl         0.063183\n",
            "2           6.0        65.0         low          java         0.182755\n"
          ],
          "name": "stdout"
        }
      ]
    },
    {
      "cell_type": "markdown",
      "metadata": {
        "id": "VDf76v_ooFtt",
        "colab_type": "text"
      },
      "source": [
        "# Building ML model for predicting which day of week question will be answered with df_new"
      ]
    },
    {
      "cell_type": "code",
      "metadata": {
        "id": "pw3qFDXJpcSY",
        "colab_type": "code",
        "colab": {}
      },
      "source": [
        "from sklearn.model_selection import train_test_split\n",
        "from sklearn.svm import SVC  \n",
        "from sklearn.preprocessing import LabelEncoder\n",
        "from sklearn.metrics import classification_report, confusion_matrix\n",
        "from sklearn import preprocessing\n",
        "import random\n",
        "from sklearn.linear_model import LogisticRegression\n",
        "from sklearn.metrics import accuracy_score\n",
        "from sklearn.metrics import confusion_matrix\n",
        "import seaborn as sns\n",
        "from sklearn.ensemble import RandomForestClassifier\n",
        "from sklearn.utils import class_weight"
      ],
      "execution_count": 0,
      "outputs": []
    },
    {
      "cell_type": "code",
      "metadata": {
        "id": "_pZTrba1rpL8",
        "colab_type": "code",
        "colab": {}
      },
      "source": [
        "# le = preprocessing.LabelEncoder()\n",
        "# le.fit(df_new.que_len_cat)\n",
        "# le.transform(df_new.que_len_cat)"
      ],
      "execution_count": 0,
      "outputs": []
    },
    {
      "cell_type": "code",
      "metadata": {
        "id": "d-WC2JXCsZyE",
        "colab_type": "code",
        "outputId": "cf4b20ef-6659-4af8-bf22-85a99b82ba90",
        "colab": {
          "base_uri": "https://localhost:8080/",
          "height": 124
        }
      },
      "source": [
        "le = preprocessing.LabelEncoder()\n",
        "df_new['que_len_cat'] = le.fit_transform(df_new['que_len_cat'])\n",
        "df_new['first_que_tag'] = le.fit_transform(df_new['first_que_tag'])\n",
        "df_new.dtypes\n"
      ],
      "execution_count": 67,
      "outputs": [
        {
          "output_type": "execute_result",
          "data": {
            "text/plain": [
              "ques_weekday     float64\n",
              "que_length       float64\n",
              "que_len_cat        int64\n",
              "first_que_tag      int64\n",
              "num_days         float64\n",
              "dtype: object"
            ]
          },
          "metadata": {
            "tags": []
          },
          "execution_count": 67
        }
      ]
    },
    {
      "cell_type": "code",
      "metadata": {
        "id": "i02XXDi1melE",
        "colab_type": "code",
        "colab": {}
      },
      "source": [
        "\n",
        "# random.shuffle(df_new)\n",
        "X=df_new.drop('num_days',axis=1)\n",
        "y=df_new.num_days"
      ],
      "execution_count": 0,
      "outputs": []
    },
    {
      "cell_type": "code",
      "metadata": {
        "id": "b5fO0kJOodi7",
        "colab_type": "code",
        "colab": {}
      },
      "source": [
        "X_train, X_test, y_train,y_test = train_test_split(X,y,test_size=0.33,random_state=105,stratify=y)"
      ],
      "execution_count": 0,
      "outputs": []
    },
    {
      "cell_type": "markdown",
      "metadata": {
        "id": "7o5B6RdBlhgv",
        "colab_type": "text"
      },
      "source": [
        " **Building SVM Classifier** "
      ]
    },
    {
      "cell_type": "code",
      "metadata": {
        "id": "VTj3YIi5onhr",
        "colab_type": "code",
        "colab": {}
      },
      "source": [
        "# svclassifier = SVC(kernel='linear')  \n",
        "# svclassifier.fit(X_train, y_train) "
      ],
      "execution_count": 0,
      "outputs": []
    },
    {
      "cell_type": "markdown",
      "metadata": {
        "id": "TUdYKHctPsou",
        "colab_type": "text"
      },
      "source": [
        "**The SVM is taking  much longer time to execute leading to runtime timeout.**"
      ]
    },
    {
      "cell_type": "markdown",
      "metadata": {
        "id": "V4J_XxrRlwSg",
        "colab_type": "text"
      },
      "source": [
        "**Building Logistic Regression**"
      ]
    },
    {
      "cell_type": "markdown",
      "metadata": {
        "id": "SI_BO4mJXWyp",
        "colab_type": "text"
      },
      "source": [
        "Building Class weights"
      ]
    },
    {
      "cell_type": "code",
      "metadata": {
        "id": "1kKaaQG-RqKY",
        "colab_type": "code",
        "colab": {
          "base_uri": "https://localhost:8080/",
          "height": 356
        },
        "outputId": "bbb2ad45-736c-4c27-bd05-e4f1ef7320ca"
      },
      "source": [
        "class_weights = class_weight.compute_class_weight('balanced',np.unique(y_train),y_train)\n",
        "# dict(class_weights)\n",
        "\n",
        "keys=np.unique(y_train)\n",
        "w=dict(zip(keys, class_weights))\n",
        "w\n",
        "# np.where(y_train==0)[0][1]\n",
        "# df_new.iloc[135550]\n",
        "ws=df_new.num_days.value_counts()/sum(df_new.num_days.value_counts())\n",
        "ws.index\n",
        "ws=ws.sort_index()\n",
        "print(ws)\n",
        "w2=dict(zip(ws.index, 1/ws))\n",
        "w2"
      ],
      "execution_count": 151,
      "outputs": [
        {
          "output_type": "stream",
          "text": [
            "0.0    0.002996\n",
            "1.0    0.892918\n",
            "2.0    0.038230\n",
            "3.0    0.018127\n",
            "4.0    0.010951\n",
            "5.0    0.007316\n",
            "6.0    0.005698\n",
            "7.0    0.004746\n",
            "8.0    0.019019\n",
            "Name: num_days, dtype: float64\n"
          ],
          "name": "stdout"
        },
        {
          "output_type": "execute_result",
          "data": {
            "text/plain": [
              "{0.0: 333.82444444444445,\n",
              " 1.0: 1.1199239572072912,\n",
              " 2.0: 26.157234894654362,\n",
              " 3.0: 55.16746235769372,\n",
              " 4.0: 91.31975683890577,\n",
              " 5.0: 136.68880800727933,\n",
              " 6.0: 175.49182242990656,\n",
              " 7.0: 210.68863955119213,\n",
              " 8.0: 52.57997899894995}"
            ]
          },
          "metadata": {
            "tags": []
          },
          "execution_count": 151
        }
      ]
    },
    {
      "cell_type": "code",
      "metadata": {
        "id": "7jAO8b-lqc2s",
        "colab_type": "code",
        "outputId": "d66d0276-f302-414a-d443-8f6fe6079a16",
        "colab": {
          "base_uri": "https://localhost:8080/",
          "height": 108
        }
      },
      "source": [
        "\n",
        "model = LogisticRegression(class_weight=w2)\n",
        "model.fit(X_train,y_train)\n",
        "y_pred_proba=model.predict_proba(X_test)"
      ],
      "execution_count": 152,
      "outputs": [
        {
          "output_type": "stream",
          "text": [
            "/usr/local/lib/python3.6/dist-packages/sklearn/linear_model/logistic.py:432: FutureWarning: Default solver will be changed to 'lbfgs' in 0.22. Specify a solver to silence this warning.\n",
            "  FutureWarning)\n",
            "/usr/local/lib/python3.6/dist-packages/sklearn/linear_model/logistic.py:469: FutureWarning: Default multi_class will be changed to 'auto' in 0.22. Specify the multi_class option to silence this warning.\n",
            "  \"this warning.\", FutureWarning)\n"
          ],
          "name": "stderr"
        }
      ]
    },
    {
      "cell_type": "code",
      "metadata": {
        "id": "W6UEMMMynucV",
        "colab_type": "code",
        "colab": {}
      },
      "source": [
        "y_pred=np.argmax(y_pred_proba,axis=1)"
      ],
      "execution_count": 0,
      "outputs": []
    },
    {
      "cell_type": "code",
      "metadata": {
        "id": "DwuW7i_qoAzx",
        "colab_type": "code",
        "outputId": "545ff30e-7fad-4fee-c905-d17e167c4822",
        "colab": {
          "base_uri": "https://localhost:8080/",
          "height": 464
        }
      },
      "source": [
        "acc=accuracy_score(y_test,y_pred)\n",
        "print(acc)\n",
        "conf_mat=confusion_matrix(y_test,y_pred)\n",
        "conf_mat\n",
        "\n",
        "plt.figure(figsize=(7,7))\n",
        "sns.heatmap(conf_mat,annot=True,cmap='PuBu',fmt=\"d\",linewidths=.5)\n",
        "plt.xlabel('Predicted Label')\n",
        "plt.ylabel('True Label')\n",
        "plt.show()"
      ],
      "execution_count": 154,
      "outputs": [
        {
          "output_type": "stream",
          "text": [
            "0.8911302523551127\n"
          ],
          "name": "stdout"
        },
        {
          "output_type": "display_data",
          "data": {
            "image/png": "[encoded data removed]",
            "text/plain": [
              "<Figure size 504x504 with 2 Axes>"
            ]
          },
          "metadata": {
            "tags": []
          }
        }
      ]
    },
    {
      "cell_type": "markdown",
      "metadata": {
        "id": "xKwSIZISr8Sr",
        "colab_type": "text"
      },
      "source": [
        "**Create Random Forest Model**"
      ]
    },
    {
      "cell_type": "code",
      "metadata": {
        "id": "Ot3hLVVqqhHW",
        "colab_type": "code",
        "colab": {}
      },
      "source": [
        "class_weights = class_weight.compute_class_weight('balanced',np.unique(y_train),y_train)\n",
        "# dict(class_weights)\n",
        "\n",
        "keys=np.unique(y_train)\n",
        "w=dict(zip(keys, class_weights))\n",
        "rf = RandomForestClassifier(n_estimators = 1000, random_state = 41,class_weight=w2)\n",
        "rf.fit(X_train, y_train);\n",
        "y_pred_rf = rf.predict(X_test)"
      ],
      "execution_count": 0,
      "outputs": []
    },
    {
      "cell_type": "code",
      "metadata": {
        "id": "61Chx-9DsOl3",
        "colab_type": "code",
        "outputId": "36fed007-ef5b-4056-ca98-dcdf7b066752",
        "colab": {
          "base_uri": "https://localhost:8080/",
          "height": 464
        }
      },
      "source": [
        "acc=accuracy_score(y_test,y_pred_rf)\n",
        "print('Accuracy from Random Foest is: ',acc)\n",
        "conf_mat=confusion_matrix(y_test,y_pred_rf)\n",
        "conf_mat\n",
        "\n",
        "plt.figure(figsize=(7,7))\n",
        "sns.heatmap(conf_mat,annot=True,cmap='PuBu',fmt=\"d\",linewidths=.5)\n",
        "plt.xlabel('Predicted Label')\n",
        "plt.ylabel('True Label')\n",
        "plt.show()"
      ],
      "execution_count": 158,
      "outputs": [
        {
          "output_type": "stream",
          "text": [
            "Accuracy from Random Foest is:  0.7584975692413208\n"
          ],
          "name": "stdout"
        },
        {
          "output_type": "display_data",
          "data": {
            "image/png": "[encoded data removed]",
            "text/plain": [
              "<Figure size 504x504 with 2 Axes>"
            ]
          },
          "metadata": {
            "tags": []
          }
        }
      ]
    },
    {
      "cell_type": "markdown",
      "metadata": {
        "id": "I8GbRLqHvF2P",
        "colab_type": "text"
      },
      "source": [
        "# Predicting with label instead of num_days using df_new2 data"
      ]
    },
    {
      "cell_type": "code",
      "metadata": {
        "id": "2Y399RTHwzxO",
        "colab_type": "code",
        "outputId": "7b035bdd-7f50-4a29-a473-f7656084530e",
        "colab": {
          "base_uri": "https://localhost:8080/",
          "height": 206
        }
      },
      "source": [
        "from sklearn import preprocessing\n",
        "from sklearn.metrics import classification_report\n",
        "le = preprocessing.LabelEncoder()\n",
        "\n",
        "df_new2['que_len_cat'] = le.fit_transform(df_new2['que_len_cat'])\n",
        "df_new2['first_que_tag'] = le.fit_transform(df_new2['first_que_tag'])\n",
        "# df_new2.first_que_tag=df_new2.first_que_tag.apply(LabelEncoder().fit_transform)\n",
        "df_new2.head(5)"
      ],
      "execution_count": 162,
      "outputs": [
        {
          "output_type": "execute_result",
          "data": {
            "text/html": [
              "<div>\n",
              "<style scoped>\n",
              "    .dataframe tbody tr th:only-of-type {\n",
              "        vertical-align: middle;\n",
              "    }\n",
              "\n",
              "    .dataframe tbody tr th {\n",
              "        vertical-align: top;\n",
              "    }\n",
              "\n",
              "    .dataframe thead th {\n",
              "        text-align: right;\n",
              "    }\n",
              "</style>\n",
              "<table border=\"1\" class=\"dataframe\">\n",
              "  <thead>\n",
              "    <tr style=\"text-align: right;\">\n",
              "      <th></th>\n",
              "      <th>ques_weekday</th>\n",
              "      <th>que_length</th>\n",
              "      <th>que_len_cat</th>\n",
              "      <th>first_que_tag</th>\n",
              "      <th>label</th>\n",
              "    </tr>\n",
              "  </thead>\n",
              "  <tbody>\n",
              "    <tr>\n",
              "      <th>0</th>\n",
              "      <td>1.0</td>\n",
              "      <td>107.0</td>\n",
              "      <td>2</td>\n",
              "      <td>1996</td>\n",
              "      <td>1.0</td>\n",
              "    </tr>\n",
              "    <tr>\n",
              "      <th>1</th>\n",
              "      <td>6.0</td>\n",
              "      <td>98.0</td>\n",
              "      <td>1</td>\n",
              "      <td>1840</td>\n",
              "      <td>1.0</td>\n",
              "    </tr>\n",
              "    <tr>\n",
              "      <th>2</th>\n",
              "      <td>6.0</td>\n",
              "      <td>65.0</td>\n",
              "      <td>1</td>\n",
              "      <td>1260</td>\n",
              "      <td>1.0</td>\n",
              "    </tr>\n",
              "    <tr>\n",
              "      <th>3</th>\n",
              "      <td>1.0</td>\n",
              "      <td>1094.0</td>\n",
              "      <td>3</td>\n",
              "      <td>279</td>\n",
              "      <td>1.0</td>\n",
              "    </tr>\n",
              "    <tr>\n",
              "      <th>4</th>\n",
              "      <td>5.0</td>\n",
              "      <td>245.0</td>\n",
              "      <td>0</td>\n",
              "      <td>1272</td>\n",
              "      <td>1.0</td>\n",
              "    </tr>\n",
              "  </tbody>\n",
              "</table>\n",
              "</div>"
            ],
            "text/plain": [
              "   ques_weekday  que_length  que_len_cat  first_que_tag  label\n",
              "0           1.0       107.0            2           1996    1.0\n",
              "1           6.0        98.0            1           1840    1.0\n",
              "2           6.0        65.0            1           1260    1.0\n",
              "3           1.0      1094.0            3            279    1.0\n",
              "4           5.0       245.0            0           1272    1.0"
            ]
          },
          "metadata": {
            "tags": []
          },
          "execution_count": 162
        }
      ]
    },
    {
      "cell_type": "code",
      "metadata": {
        "id": "rLQ-AXDlsmaH",
        "colab_type": "code",
        "colab": {}
      },
      "source": [
        "X=df_new2.drop('label',axis=1)\n",
        "y=df_new2.label\n",
        "X_train, X_test, y_train,y_test = train_test_split(X,y,test_size=0.33,random_state=random.randint(1,100),stratify=y)"
      ],
      "execution_count": 0,
      "outputs": []
    },
    {
      "cell_type": "markdown",
      "metadata": {
        "id": "wlW92f0GekLf",
        "colab_type": "text"
      },
      "source": [
        "### Building Logistic Regression without class weight"
      ]
    },
    {
      "cell_type": "code",
      "metadata": {
        "id": "iqzbSFxYv2pQ",
        "colab_type": "code",
        "outputId": "e22b40bd-4963-4938-c5ad-05234de04fef",
        "colab": {
          "base_uri": "https://localhost:8080/",
          "height": 73
        }
      },
      "source": [
        "model = LogisticRegression()\n",
        "model.fit(X_train,y_train)\n",
        "y_pred_proba=model.predict_proba(X_test)\n"
      ],
      "execution_count": 171,
      "outputs": [
        {
          "output_type": "stream",
          "text": [
            "/usr/local/lib/python3.6/dist-packages/sklearn/linear_model/logistic.py:432: FutureWarning: Default solver will be changed to 'lbfgs' in 0.22. Specify a solver to silence this warning.\n",
            "  FutureWarning)\n"
          ],
          "name": "stderr"
        }
      ]
    },
    {
      "cell_type": "code",
      "metadata": {
        "id": "1LIORJnJwBTb",
        "colab_type": "code",
        "colab": {}
      },
      "source": [
        "y_pred=np.argmax(y_pred_proba,axis=1)"
      ],
      "execution_count": 0,
      "outputs": []
    },
    {
      "cell_type": "code",
      "metadata": {
        "id": "rM1JCty-v_oo",
        "colab_type": "code",
        "outputId": "6b873850-5745-4ba4-b8dc-acd9f3303752",
        "colab": {
          "base_uri": "https://localhost:8080/",
          "height": 246
        }
      },
      "source": [
        "acc=accuracy_score(y_test,y_pred)\n",
        "print(acc)\n",
        "conf_mat=confusion_matrix(y_test,y_pred)\n",
        "conf_mat\n",
        "\n",
        "plt.figure(figsize=(3,3))\n",
        "sns.heatmap(conf_mat,annot=True,cmap='PuBu',fmt=\"d\",linewidths=.5)\n",
        "plt.xlabel('Predicted Label')\n",
        "plt.ylabel('True Label')\n",
        "plt.show()"
      ],
      "execution_count": 173,
      "outputs": [
        {
          "output_type": "stream",
          "text": [
            "0.6300607185363\n"
          ],
          "name": "stdout"
        },
        {
          "output_type": "display_data",
          "data": {
            "image/png": "[encoded data removed]",
            "text/plain": [
              "<Figure size 216x216 with 2 Axes>"
            ]
          },
          "metadata": {
            "tags": []
          }
        }
      ]
    },
    {
      "cell_type": "markdown",
      "metadata": {
        "id": "vbOgyTnjzALF",
        "colab_type": "text"
      },
      "source": [
        ""
      ]
    },
    {
      "cell_type": "markdown",
      "metadata": {
        "id": "34IRovYAyvgm",
        "colab_type": "text"
      },
      "source": [
        "Thought accuracy is very good in Logistic regression the Confusion matrix shows the actual result. This is due to high class imbalance "
      ]
    },
    {
      "cell_type": "markdown",
      "metadata": {
        "id": "dx0dzi9se9K0",
        "colab_type": "text"
      },
      "source": [
        "**Logistic Regrssion with Class weights**"
      ]
    },
    {
      "cell_type": "code",
      "metadata": {
        "id": "H5BJBjnQerFR",
        "colab_type": "code",
        "colab": {
          "base_uri": "https://localhost:8080/",
          "height": 71
        },
        "outputId": "b3af37d6-48ed-4157-d21e-0917e5e72949"
      },
      "source": [
        "class_weights = class_weight.compute_class_weight('balanced',np.unique(y_train),y_train)\n",
        "# dict(class_weights)\n",
        "\n",
        "keys=np.unique(y_train)\n",
        "w=dict(zip(keys, class_weights))\n",
        "w\n",
        "# np.where(y_train==0)[0][1]\n",
        "# df_new.iloc[135550]\n",
        "ws=df_new2.label.value_counts()/sum(df_new2.label.value_counts())\n",
        "ws.index\n",
        "ws=ws.sort_index()\n",
        "print(ws)\n",
        "w2=dict(zip(ws.index, 1-ws))\n",
        "w2\n",
        "w3 = {0: 0.979,\n",
        "                1: 1-0.979}"
      ],
      "execution_count": 260,
      "outputs": [
        {
          "output_type": "stream",
          "text": [
            "0.0    0.019019\n",
            "1.0    0.980981\n",
            "Name: label, dtype: float64\n"
          ],
          "name": "stdout"
        }
      ]
    },
    {
      "cell_type": "code",
      "metadata": {
        "id": "wUXmMRNNerCM",
        "colab_type": "code",
        "colab": {
          "base_uri": "https://localhost:8080/",
          "height": 73
        },
        "outputId": "ae0fd0df-af75-444f-f748-a823f2be68c2"
      },
      "source": [
        "model = LogisticRegression(class_weight=w3)\n",
        "model.fit(X_train,y_train)\n",
        "y_pred_proba=model.predict_proba(X_test)"
      ],
      "execution_count": 261,
      "outputs": [
        {
          "output_type": "stream",
          "text": [
            "/usr/local/lib/python3.6/dist-packages/sklearn/linear_model/logistic.py:432: FutureWarning: Default solver will be changed to 'lbfgs' in 0.22. Specify a solver to silence this warning.\n",
            "  FutureWarning)\n"
          ],
          "name": "stderr"
        }
      ]
    },
    {
      "cell_type": "code",
      "metadata": {
        "id": "xfwgy7AMeq5-",
        "colab_type": "code",
        "colab": {}
      },
      "source": [
        "y_pred=np.argmax(y_pred_proba,axis=1)"
      ],
      "execution_count": 0,
      "outputs": []
    },
    {
      "cell_type": "code",
      "metadata": {
        "id": "NvmXcN-ce0Sc",
        "colab_type": "code",
        "colab": {
          "base_uri": "https://localhost:8080/",
          "height": 246
        },
        "outputId": "23145865-7e3d-4474-a18e-0aa53e6b84e9"
      },
      "source": [
        "acc=accuracy_score(y_test,y_pred)\n",
        "print(acc)\n",
        "conf_mat=confusion_matrix(y_test,y_pred)\n",
        "conf_mat\n",
        "\n",
        "plt.figure(figsize=(3,3))\n",
        "sns.heatmap(conf_mat,annot=True,cmap='PuBu',fmt=\"d\",linewidths=.5)\n",
        "plt.xlabel('Predicted Label')\n",
        "plt.ylabel('True Label')\n",
        "plt.show()"
      ],
      "execution_count": 263,
      "outputs": [
        {
          "output_type": "stream",
          "text": [
            "0.8281322494099611\n"
          ],
          "name": "stdout"
        },
        {
          "output_type": "display_data",
          "data": {
            "image/png": "[encoded data removed]",
            "text/plain": [
              "<Figure size 216x216 with 2 Axes>"
            ]
          },
          "metadata": {
            "tags": []
          }
        }
      ]
    },
    {
      "cell_type": "code",
      "metadata": {
        "id": "THts1SuAe0Yz",
        "colab_type": "code",
        "colab": {}
      },
      "source": [
        ""
      ],
      "execution_count": 0,
      "outputs": []
    },
    {
      "cell_type": "code",
      "metadata": {
        "id": "cVRNhpx6e0gX",
        "colab_type": "code",
        "colab": {}
      },
      "source": [
        ""
      ],
      "execution_count": 0,
      "outputs": []
    },
    {
      "cell_type": "code",
      "metadata": {
        "id": "Q_9lpGQge0Nn",
        "colab_type": "code",
        "colab": {}
      },
      "source": [
        ""
      ],
      "execution_count": 0,
      "outputs": []
    },
    {
      "cell_type": "markdown",
      "metadata": {
        "id": "VjuVmTuazCJf",
        "colab_type": "text"
      },
      "source": [
        "**Creating Random Forest model**"
      ]
    },
    {
      "cell_type": "code",
      "metadata": {
        "id": "8aKxErpLymNM",
        "colab_type": "code",
        "colab": {}
      },
      "source": [
        "rf = RandomForestClassifier(n_estimators = 500, random_state = 412,class_weight=w)\n",
        "rf.fit(X_train, y_train);\n",
        "y_pred_rf = rf.predict(X_test)\n",
        "y_pred_rf_prob=rf.predict_proba(X_test)\n"
      ],
      "execution_count": 0,
      "outputs": []
    },
    {
      "cell_type": "code",
      "metadata": {
        "id": "aOkVKv9w1Dmu",
        "colab_type": "code",
        "colab": {
          "base_uri": "https://localhost:8080/",
          "height": 142
        },
        "outputId": "11664b1b-af13-408d-830e-ba90e3e8c4d5"
      },
      "source": [
        "y_pred_rf_prob"
      ],
      "execution_count": 203,
      "outputs": [
        {
          "output_type": "execute_result",
          "data": {
            "text/plain": [
              "array([[0.        , 1.        ],\n",
              "       [0.        , 1.        ],\n",
              "       [0.        , 1.        ],\n",
              "       ...,\n",
              "       [0.        , 1.        ],\n",
              "       [0.        , 1.        ],\n",
              "       [0.34381089, 0.65618911]])"
            ]
          },
          "metadata": {
            "tags": []
          },
          "execution_count": 203
        }
      ]
    },
    {
      "cell_type": "code",
      "metadata": {
        "id": "vF04McbLzV2g",
        "colab_type": "code",
        "outputId": "cfe82a5b-1640-4090-f17d-7ae1b1a6d539",
        "colab": {
          "base_uri": "https://localhost:8080/",
          "height": 35
        }
      },
      "source": [
        "sum(y_pred_rf_prob>0.5)"
      ],
      "execution_count": 204,
      "outputs": [
        {
          "output_type": "execute_result",
          "data": {
            "text/plain": [
              "array([ 1618, 47955])"
            ]
          },
          "metadata": {
            "tags": []
          },
          "execution_count": 204
        }
      ]
    },
    {
      "cell_type": "code",
      "metadata": {
        "id": "inRWKiWhzLZe",
        "colab_type": "code",
        "outputId": "d240f42f-1809-4062-f979-3fdb3669d0c1",
        "colab": {
          "base_uri": "https://localhost:8080/",
          "height": 407
        }
      },
      "source": [
        "acc=accuracy_score(y_test,np.round(y_pred_rf))\n",
        "print(acc)\n",
        "print(classification_report(y_test, y_pred_rf))\n",
        "conf_mat=confusion_matrix(y_test,np.round(y_pred_rf))\n",
        "conf_mat\n",
        "\n",
        "plt.figure(figsize=(2,2))\n",
        "sns.heatmap(conf_mat,annot=True,cmap='PuBu',fmt=\"d\",linewidths=.5)\n",
        "plt.xlabel('Predicted Label')\n",
        "plt.ylabel('True Label')\n",
        "plt.show()"
      ],
      "execution_count": 205,
      "outputs": [
        {
          "output_type": "stream",
          "text": [
            "0.9533818812660118\n",
            "              precision    recall  f1-score   support\n",
            "\n",
            "         0.0       0.08      0.13      0.10       943\n",
            "         1.0       0.98      0.97      0.98     48630\n",
            "\n",
            "    accuracy                           0.95     49573\n",
            "   macro avg       0.53      0.55      0.54     49573\n",
            "weighted avg       0.97      0.95      0.96     49573\n",
            "\n"
          ],
          "name": "stdout"
        },
        {
          "output_type": "display_data",
          "data": {
            "image/png": "[encoded data removed]",
            "text/plain": [
              "<Figure size 216x216 with 2 Axes>"
            ]
          },
          "metadata": {
            "tags": []
          }
        }
      ]
    },
    {
      "cell_type": "markdown",
      "metadata": {
        "id": "o3mk35kz-0Ch",
        "colab_type": "text"
      },
      "source": [
        "Looks like Random Forest does a better job at classifying the results"
      ]
    },
    {
      "cell_type": "code",
      "metadata": {
        "id": "t6H0e7iL05q7",
        "colab_type": "code",
        "colab": {}
      },
      "source": [
        ""
      ],
      "execution_count": 0,
      "outputs": []
    },
    {
      "cell_type": "markdown",
      "metadata": {
        "id": "XCxjeze41uHF",
        "colab_type": "text"
      },
      "source": [
        "**Running a 5 fold CV over this model**"
      ]
    },
    {
      "cell_type": "code",
      "metadata": {
        "id": "7ymNz6S71zrN",
        "colab_type": "code",
        "colab": {}
      },
      "source": [
        "from sklearn.model_selection import StratifiedKFold\n",
        "from sklearn.model_selection import cross_val_score\n",
        "# kfold = KFold(n_splits=10, shuffle=True)\n",
        "skf = StratifiedKFold(n_splits=3)\n",
        "skf.get_n_splits(X, y)\n",
        "\n",
        "for train_index, test_index in skf.split(X, y):\n",
        "    #print(\"TRAIN:\", train_index, \"TEST:\", test_index)\n",
        "    X_train, X_test = X.iloc[train_index], X.iloc[test_index]\n",
        "    y_train, y_test = y.iloc[train_index], y.iloc[test_index]\n",
        "    model = RandomForestClassifier(n_estimators = 200, random_state = random.randint(1,100))\n",
        "    model.fit(X_train, y_train)\n",
        "    y_pred_rf = model.predict(X_test)\n",
        "    acc=accuracy_score(y_test,np.round(y_pred_rf))\n",
        "    print(acc)\n",
        "    conf_mat=confusion_matrix(y_test,np.round(y_pred_rf))\n",
        "\n",
        "    plt.figure(figsize=(2,2))\n",
        "    sns.heatmap(conf_mat,annot=True,cmap='PuBu',fmt=\"d\",linewidths=.5)\n",
        "    plt.xlabel('Predicted Label')\n",
        "    plt.ylabel('True Label')\n",
        "    plt.show()\n",
        "    "
      ],
      "execution_count": 0,
      "outputs": []
    },
    {
      "cell_type": "markdown",
      "metadata": {
        "id": "B1QIMSeMQscG",
        "colab_type": "text"
      },
      "source": [
        "By looking at the confuion atrices  it ca b seen that maority of the low label classes are predicted as posive labels. Thiscan  improved using oersamping using SMOTE"
      ]
    },
    {
      "cell_type": "markdown",
      "metadata": {
        "id": "Q9NYjNdTRLmf",
        "colab_type": "text"
      },
      "source": [
        "## **Trying Boosting**"
      ]
    },
    {
      "cell_type": "code",
      "metadata": {
        "id": "gQuwIEaiQqoY",
        "colab_type": "code",
        "colab": {}
      },
      "source": [
        "# from xgboost import XGBClassifier"
      ],
      "execution_count": 0,
      "outputs": []
    },
    {
      "cell_type": "code",
      "metadata": {
        "id": "L_FX1itj4ePv",
        "colab_type": "code",
        "colab": {}
      },
      "source": [
        "# X_train, X_test, y_train,y_test = train_test_split(X,y,test_size=0.33,random_state=141,stratify=y)\n",
        "# model=XGBClassifier(learning_rate=0.05,max_depth=1)\n",
        "# model.fit(X_train,y_train)\n"
      ],
      "execution_count": 0,
      "outputs": []
    },
    {
      "cell_type": "code",
      "metadata": {
        "id": "gJad_MIEUTpo",
        "colab_type": "code",
        "colab": {}
      },
      "source": [
        "# y_pred_xgb = model.predict(X_test)\n",
        "# y_pred_xgb"
      ],
      "execution_count": 0,
      "outputs": []
    },
    {
      "cell_type": "code",
      "metadata": {
        "id": "yStZ4Li173Yi",
        "colab_type": "code",
        "colab": {}
      },
      "source": [
        "# acc=accuracy_score(y_test,np.round(y_pred_xgb))\n",
        "# print(acc)\n",
        "# conf_mat=confusion_matrix(y_test,np.round(y_pred_xgb))\n",
        "# conf_mat\n",
        "\n",
        "# plt.figure(figsize=(2,2))\n",
        "# sns.heatmap(conf_mat,annot=True,cmap='PuBu',fmt=\"d\",linewidths=.5)\n",
        "# plt.xlabel('Predicted Label')\n",
        "# plt.ylabel('True Label')\n",
        "# plt.show()"
      ],
      "execution_count": 0,
      "outputs": []
    },
    {
      "cell_type": "code",
      "metadata": {
        "id": "5qI7cJmQHkQN",
        "colab_type": "code",
        "colab": {}
      },
      "source": [
        "# from sklearn.ensemble import AdaBoostClassifier\n",
        "# from sklearn.svm import SVC"
      ],
      "execution_count": 0,
      "outputs": []
    },
    {
      "cell_type": "code",
      "metadata": {
        "id": "YIjOb57FeGKd",
        "colab_type": "code",
        "colab": {}
      },
      "source": [
        "# svc=SVC(probability=True, kernel='linear')\n",
        "# rf=RandomForestClassifer(n_estimators = 500, random_state = None)\n",
        "# model = AdaBoostClassifier(n_estimators=500,learning_rate=0.05,base_estimator=LogisticRegression())\n",
        "# # Train Adaboost Classifer\n",
        "# model.fit(X_train, y_train)"
      ],
      "execution_count": 0,
      "outputs": []
    },
    {
      "cell_type": "code",
      "metadata": {
        "id": "rR3l_nDrXJxf",
        "colab_type": "code",
        "colab": {}
      },
      "source": [
        "# y_pred_xgb = model.predict(X_test)\n",
        "# y_pred_xgb"
      ],
      "execution_count": 0,
      "outputs": []
    },
    {
      "cell_type": "code",
      "metadata": {
        "id": "5rU31cEaer4o",
        "colab_type": "code",
        "colab": {}
      },
      "source": [
        "# acc=accuracy_score(y_test,np.round(y_pred_xgb))\n",
        "# print(acc)\n",
        "# conf_mat=confusion_matrix(y_test,np.round(y_pred_xgb))\n",
        "# conf_mat\n",
        "\n",
        "# plt.figure(figsize=(2,2))\n",
        "# sns.heatmap(conf_mat,annot=True,cmap='PuBu',fmt=\"d\",linewidths=.5)\n",
        "# plt.xlabel('Predicted Label')\n",
        "# plt.ylabel('True Label')\n",
        "# plt.show()"
      ],
      "execution_count": 0,
      "outputs": []
    },
    {
      "cell_type": "markdown",
      "metadata": {
        "id": "T0v6H3q1kO6U",
        "colab_type": "text"
      },
      "source": [
        "Boosting Didnt Help Much"
      ]
    },
    {
      "cell_type": "markdown",
      "metadata": {
        "id": "SpT-PI69dFol",
        "colab_type": "text"
      },
      "source": [
        "# Using SMOTE Oversampling on df_new2 data"
      ]
    },
    {
      "cell_type": "code",
      "metadata": {
        "id": "NQWWeh-rdIYv",
        "colab_type": "code",
        "colab": {
          "base_uri": "https://localhost:8080/",
          "height": 73
        },
        "outputId": "af0d6467-89fd-4c94-9d49-d39ece92993f"
      },
      "source": [
        "from imblearn.over_sampling import SMOTE\n",
        "\n"
      ],
      "execution_count": 213,
      "outputs": [
        {
          "output_type": "stream",
          "text": [
            "/usr/local/lib/python3.6/dist-packages/sklearn/externals/six.py:31: DeprecationWarning: The module is deprecated in version 0.21 and will be removed in version 0.23 since we've dropped support for Python 2.7. Please rely on the official version of six (https://pypi.org/project/six/).\n",
            "  \"(https://pypi.org/project/six/).\", DeprecationWarning)\n"
          ],
          "name": "stderr"
        }
      ]
    },
    {
      "cell_type": "code",
      "metadata": {
        "id": "w-e9Y-Yui8u_",
        "colab_type": "code",
        "colab": {
          "base_uri": "https://localhost:8080/",
          "height": 71
        },
        "outputId": "23a69d59-4ba1-4aac-cd1c-2abe7527c1e1"
      },
      "source": [
        "\n",
        "print(\"Data before oversampling '1': {}\".format(sum(y_train==1)))\n",
        "print(\"Data before oversampling '0': {} \\n\".format(sum(y_train==0)))\n"
      ],
      "execution_count": 218,
      "outputs": [
        {
          "output_type": "stream",
          "text": [
            "Data before oversampling '1': 98734\n",
            "Data before oversampling '0': 1914 \n",
            "\n"
          ],
          "name": "stdout"
        }
      ]
    },
    {
      "cell_type": "code",
      "metadata": {
        "id": "CZcn8Z-YdU4l",
        "colab_type": "code",
        "colab": {}
      },
      "source": [
        "sm = SMOTE(random_state=2)\n",
        "X_train_res, y_train_res = sm.fit_sample(X_train, y_train.ravel())\n"
      ],
      "execution_count": 0,
      "outputs": []
    },
    {
      "cell_type": "code",
      "metadata": {
        "id": "ZQ9uxXv6ik0r",
        "colab_type": "code",
        "colab": {
          "base_uri": "https://localhost:8080/",
          "height": 71
        },
        "outputId": "f28a074e-e4a4-4edb-8234-e882783c77d2"
      },
      "source": [
        "print(\"Data after oversampling '1': {}\".format(sum(y_train_res==1)))\n",
        "print(\"Data after oversampling '0': {} \\n\".format(sum(y_train_res==0)))"
      ],
      "execution_count": 231,
      "outputs": [
        {
          "output_type": "stream",
          "text": [
            "Data after oversampling '1': 98734\n",
            "Data after oversampling '0': 98734 \n",
            "\n"
          ],
          "name": "stdout"
        }
      ]
    },
    {
      "cell_type": "markdown",
      "metadata": {
        "id": "gWxPF6fhjcdk",
        "colab_type": "text"
      },
      "source": [
        "### Fitting model with SMOTE over-sampled data "
      ]
    },
    {
      "cell_type": "code",
      "metadata": {
        "id": "z6hU2tJFn-mW",
        "colab_type": "code",
        "colab": {
          "base_uri": "https://localhost:8080/",
          "height": 88
        },
        "outputId": "cdaa34df-b173-440b-8e4e-d3cf00aa8a2a"
      },
      "source": [
        "class_weights = class_weight.compute_class_weight('balanced',np.unique(y_train),y_train)\n",
        "# dict(class_weights)\n",
        "\n",
        "keys=np.unique(y_train)\n",
        "w=dict(zip(keys, class_weights))\n",
        "w\n",
        "# np.where(y_train==0)[0][1]\n",
        "# df_new.iloc[135550]\n",
        "ws=df_new2.label.value_counts()/sum(df_new2.label.value_counts())\n",
        "ws.index\n",
        "ws=ws.sort_index()\n",
        "print(ws)\n",
        "w2=dict(zip(ws.index, 1/ws))\n",
        "w2"
      ],
      "execution_count": 226,
      "outputs": [
        {
          "output_type": "stream",
          "text": [
            "0.0    0.019019\n",
            "1.0    0.980981\n",
            "Name: label, dtype: float64\n"
          ],
          "name": "stdout"
        },
        {
          "output_type": "execute_result",
          "data": {
            "text/plain": [
              "{0.0: 52.57997899894995, 1.0: 1.0193873673353058}"
            ]
          },
          "metadata": {
            "tags": []
          },
          "execution_count": 226
        }
      ]
    },
    {
      "cell_type": "code",
      "metadata": {
        "id": "n4GJ3OyIiy5Q",
        "colab_type": "code",
        "colab": {}
      },
      "source": [
        "rf = RandomForestClassifier(n_estimators = 200, random_state = random.randint(1,100),class_weight=None)\n",
        "rf.fit(X_train_res, y_train_res);\n",
        "y_pred_rf = rf.predict(X_test)\n",
        "y_pred_rf_prob=rf.predict_proba(X_test)\n"
      ],
      "execution_count": 0,
      "outputs": []
    },
    {
      "cell_type": "code",
      "metadata": {
        "id": "KhKnhDE_jtKg",
        "colab_type": "code",
        "colab": {
          "base_uri": "https://localhost:8080/",
          "height": 354
        },
        "outputId": "2099a07e-bfa7-448c-d8bd-98359a8155a3"
      },
      "source": [
        "acc=accuracy_score(y_test,np.round(y_pred_rf))\n",
        "print(acc)\n",
        "print(classification_report(y_test, y_pred_rf))\n",
        "conf_mat=confusion_matrix(y_test,np.round(y_pred_rf))\n",
        "conf_mat\n",
        "\n",
        "plt.figure(figsize=(2,2))\n",
        "sns.heatmap(conf_mat,annot=True,cmap='PuBu',fmt=\"d\",linewidths=.5)\n",
        "plt.xlabel('Predicted Label')\n",
        "plt.ylabel('True Label')\n",
        "plt.show()"
      ],
      "execution_count": 269,
      "outputs": [
        {
          "output_type": "stream",
          "text": [
            "0.969640731849999\n",
            "              precision    recall  f1-score   support\n",
            "\n",
            "         0.0       0.12      0.10      0.11       943\n",
            "         1.0       0.98      0.99      0.98     48630\n",
            "\n",
            "    accuracy                           0.97     49573\n",
            "   macro avg       0.55      0.54      0.55     49573\n",
            "weighted avg       0.97      0.97      0.97     49573\n",
            "\n"
          ],
          "name": "stdout"
        },
        {
          "output_type": "display_data",
          "data": {
            "image/png": "[encoded data removed]",
            "text/plain": [
              "<Figure size 144x144 with 2 Axes>"
            ]
          },
          "metadata": {
            "tags": []
          }
        }
      ]
    },
    {
      "cell_type": "markdown",
      "metadata": {
        "id": "X1Yf6-1hpihD",
        "colab_type": "text"
      },
      "source": [
        "**Doing a grid CV search to find best class weights  and n trees but leads to Runtime Timeout**"
      ]
    },
    {
      "cell_type": "code",
      "metadata": {
        "id": "pbu6xa9hpi0R",
        "colab_type": "code",
        "colab": {}
      },
      "source": [
        "from sklearn.model_selection import GridSearchCV\n",
        "\n"
      ],
      "execution_count": 0,
      "outputs": []
    },
    {
      "cell_type": "code",
      "metadata": {
        "id": "xsHY3GY5ptcs",
        "colab_type": "code",
        "colab": {}
      },
      "source": [
        "# weights = np.linspace(0.05, 0.95, 20)\n",
        "# n_trees=list(np.arange(50,500,10))\n",
        "# gsc = GridSearchCV(\n",
        "#     estimator=RandomForestClassifier(),\n",
        "#     param_grid={\n",
        "#         'class_weight': [{0: x, 1: 1.0-x} for x in weights],\n",
        "#         'n_estimators':n_trees\n",
        "#     },\n",
        "#     scoring='f1',\n",
        "#     cv=3\n",
        "# )\n",
        "# grid_result = gsc.fit(X_train, y_train)\n",
        "\n",
        "# print(\"Best parameters : %s\" % grid_result.best_params_)\n",
        "\n",
        "# # Plot the weights vs f1 score\n",
        "# dataz = pd.DataFrame({ 'score': grid_result.cv_results_['mean_test_score'],\n",
        "#                        'weight': weights,'n_trees':ntrees })\n",
        "# dataz.plot(x='weight')\n",
        "# dataz.plot(x='n_trees')"
      ],
      "execution_count": 0,
      "outputs": []
    },
    {
      "cell_type": "markdown",
      "metadata": {
        "id": "HWnVUDPqvByQ",
        "colab_type": "text"
      },
      "source": [
        "**Running a 5 fold CV over the smote model**"
      ]
    },
    {
      "cell_type": "code",
      "metadata": {
        "id": "nWoO1TsYrT55",
        "colab_type": "code",
        "colab": {
          "base_uri": "https://localhost:8080/",
          "height": 658
        },
        "outputId": "d30234d9-4fb7-4893-f222-e863c434a8e8"
      },
      "source": [
        "from sklearn.model_selection import StratifiedKFold\n",
        "from sklearn.model_selection import cross_val_score\n",
        "# kfold = KFold(n_splits=10, shuffle=True)\n",
        "X_train_df=pd.DataFrame(X_train_res)\n",
        "y_train_df=pd.DataFrame(y_train_res)\n",
        "skf = StratifiedKFold(n_splits=3)\n",
        "skf.get_n_splits(X_train_df, y_train_df)\n",
        "\n",
        "for train_index, test_index in skf.split(X_train_df, y_train_df):\n",
        "    #print(\"TRAIN:\", train_index, \"TEST:\", test_index)\n",
        "    X_train_CV, X_test_CV = X_train_df.iloc[train_index], X_train_df.iloc[test_index]\n",
        "    y_train_CV, y_test_CV = y_train_df.iloc[train_index], y_train_df.iloc[test_index]\n",
        "    model = RandomForestClassifier(n_estimators = 200, random_state = random.randint(1,100))\n",
        "    model.fit(X_train_CV, y_train_CV)\n",
        "    y_pred_rf = model.predict(X_test_CV)\n",
        "    y_pred_rf_prob = model.predict_proba(X_test_CV)\n",
        "    acc=accuracy_score(y_test_CV,y_pred_rf)\n",
        "    print(acc)\n",
        "    conf_mat=confusion_matrix(y_test_CV,y_pred_rf)\n",
        "\n",
        "    plt.figure(figsize=(2,2))\n",
        "    sns.heatmap(conf_mat,annot=True,cmap='PuBu',fmt=\"d\",linewidths=.5)\n",
        "    plt.xlabel('Predicted Label')\n",
        "    plt.ylabel('True Label')\n",
        "    plt.show()\n",
        "    "
      ],
      "execution_count": 283,
      "outputs": [
        {
          "output_type": "stream",
          "text": [
            "/usr/local/lib/python3.6/dist-packages/ipykernel_launcher.py:14: DataConversionWarning: A column-vector y was passed when a 1d array was expected. Please change the shape of y to (n_samples,), for example using ravel().\n",
            "  \n"
          ],
          "name": "stderr"
        },
        {
          "output_type": "stream",
          "text": [
            "0.965377369956247\n"
          ],
          "name": "stdout"
        },
        {
          "output_type": "display_data",
          "data": {
            "image/png": "[encoded data removed]",
            "text/plain": [
              "<Figure size 144x144 with 2 Axes>"
            ]
          },
          "metadata": {
            "tags": []
          }
        },
        {
          "output_type": "stream",
          "text": [
            "/usr/local/lib/python3.6/dist-packages/ipykernel_launcher.py:14: DataConversionWarning: A column-vector y was passed when a 1d array was expected. Please change the shape of y to (n_samples,), for example using ravel().\n",
            "  \n"
          ],
          "name": "stderr"
        },
        {
          "output_type": "error",
          "ename": "KeyboardInterrupt",
          "evalue": "ignored",
          "traceback": [
            "\u001b[0;31m---------------------------------------------------------------------------\u001b[0m",
            "\u001b[0;31mKeyboardInterrupt\u001b[0m                         Traceback (most recent call last)",
            "\u001b[0;32m<ipython-input-283-5a6ffffa2de1>\u001b[0m in \u001b[0;36m<module>\u001b[0;34m()\u001b[0m\n\u001b[1;32m     12\u001b[0m     \u001b[0my_train_CV\u001b[0m\u001b[0;34m,\u001b[0m \u001b[0my_test_CV\u001b[0m \u001b[0;34m=\u001b[0m \u001b[0my_train_df\u001b[0m\u001b[0;34m.\u001b[0m\u001b[0miloc\u001b[0m\u001b[0;34m[\u001b[0m\u001b[0mtrain_index\u001b[0m\u001b[0;34m]\u001b[0m\u001b[0;34m,\u001b[0m \u001b[0my_train_df\u001b[0m\u001b[0;34m.\u001b[0m\u001b[0miloc\u001b[0m\u001b[0;34m[\u001b[0m\u001b[0mtest_index\u001b[0m\u001b[0;34m]\u001b[0m\u001b[0;34m\u001b[0m\u001b[0;34m\u001b[0m\u001b[0m\n\u001b[1;32m     13\u001b[0m     \u001b[0mmodel\u001b[0m \u001b[0;34m=\u001b[0m \u001b[0mRandomForestClassifier\u001b[0m\u001b[0;34m(\u001b[0m\u001b[0mn_estimators\u001b[0m \u001b[0;34m=\u001b[0m \u001b[0;36m200\u001b[0m\u001b[0;34m,\u001b[0m \u001b[0mrandom_state\u001b[0m \u001b[0;34m=\u001b[0m \u001b[0mrandom\u001b[0m\u001b[0;34m.\u001b[0m\u001b[0mrandint\u001b[0m\u001b[0;34m(\u001b[0m\u001b[0;36m1\u001b[0m\u001b[0;34m,\u001b[0m\u001b[0;36m100\u001b[0m\u001b[0;34m)\u001b[0m\u001b[0;34m)\u001b[0m\u001b[0;34m\u001b[0m\u001b[0;34m\u001b[0m\u001b[0m\n\u001b[0;32m---> 14\u001b[0;31m     \u001b[0mmodel\u001b[0m\u001b[0;34m.\u001b[0m\u001b[0mfit\u001b[0m\u001b[0;34m(\u001b[0m\u001b[0mX_train_CV\u001b[0m\u001b[0;34m,\u001b[0m \u001b[0my_train_CV\u001b[0m\u001b[0;34m)\u001b[0m\u001b[0;34m\u001b[0m\u001b[0;34m\u001b[0m\u001b[0m\n\u001b[0m\u001b[1;32m     15\u001b[0m     \u001b[0my_pred_rf\u001b[0m \u001b[0;34m=\u001b[0m \u001b[0mmodel\u001b[0m\u001b[0;34m.\u001b[0m\u001b[0mpredict\u001b[0m\u001b[0;34m(\u001b[0m\u001b[0mX_test_CV\u001b[0m\u001b[0;34m)\u001b[0m\u001b[0;34m\u001b[0m\u001b[0;34m\u001b[0m\u001b[0m\n\u001b[1;32m     16\u001b[0m     \u001b[0my_pred_rf_prob\u001b[0m \u001b[0;34m=\u001b[0m \u001b[0mmodel\u001b[0m\u001b[0;34m.\u001b[0m\u001b[0mpredict_proba\u001b[0m\u001b[0;34m(\u001b[0m\u001b[0mX_test_CV\u001b[0m\u001b[0;34m)\u001b[0m\u001b[0;34m\u001b[0m\u001b[0;34m\u001b[0m\u001b[0m\n",
            "\u001b[0;32m/usr/local/lib/python3.6/dist-packages/sklearn/ensemble/forest.py\u001b[0m in \u001b[0;36mfit\u001b[0;34m(self, X, y, sample_weight)\u001b[0m\n\u001b[1;32m    328\u001b[0m                     \u001b[0mt\u001b[0m\u001b[0;34m,\u001b[0m \u001b[0mself\u001b[0m\u001b[0;34m,\u001b[0m \u001b[0mX\u001b[0m\u001b[0;34m,\u001b[0m \u001b[0my\u001b[0m\u001b[0;34m,\u001b[0m \u001b[0msample_weight\u001b[0m\u001b[0;34m,\u001b[0m \u001b[0mi\u001b[0m\u001b[0;34m,\u001b[0m \u001b[0mlen\u001b[0m\u001b[0;34m(\u001b[0m\u001b[0mtrees\u001b[0m\u001b[0;34m)\u001b[0m\u001b[0;34m,\u001b[0m\u001b[0;34m\u001b[0m\u001b[0;34m\u001b[0m\u001b[0m\n\u001b[1;32m    329\u001b[0m                     verbose=self.verbose, class_weight=self.class_weight)\n\u001b[0;32m--> 330\u001b[0;31m                 for i, t in enumerate(trees))\n\u001b[0m\u001b[1;32m    331\u001b[0m \u001b[0;34m\u001b[0m\u001b[0m\n\u001b[1;32m    332\u001b[0m             \u001b[0;31m# Collect newly grown trees\u001b[0m\u001b[0;34m\u001b[0m\u001b[0;34m\u001b[0m\u001b[0;34m\u001b[0m\u001b[0m\n",
            "\u001b[0;32m/usr/local/lib/python3.6/dist-packages/joblib/parallel.py\u001b[0m in \u001b[0;36m__call__\u001b[0;34m(self, iterable)\u001b[0m\n\u001b[1;32m    984\u001b[0m                 \u001b[0mself\u001b[0m\u001b[0;34m.\u001b[0m\u001b[0m_iterating\u001b[0m \u001b[0;34m=\u001b[0m \u001b[0mself\u001b[0m\u001b[0;34m.\u001b[0m\u001b[0m_original_iterator\u001b[0m \u001b[0;32mis\u001b[0m \u001b[0;32mnot\u001b[0m \u001b[0;32mNone\u001b[0m\u001b[0;34m\u001b[0m\u001b[0;34m\u001b[0m\u001b[0m\n\u001b[1;32m    985\u001b[0m \u001b[0;34m\u001b[0m\u001b[0m\n\u001b[0;32m--> 986\u001b[0;31m             \u001b[0;32mwhile\u001b[0m \u001b[0mself\u001b[0m\u001b[0;34m.\u001b[0m\u001b[0mdispatch_one_batch\u001b[0m\u001b[0;34m(\u001b[0m\u001b[0miterator\u001b[0m\u001b[0;34m)\u001b[0m\u001b[0;34m:\u001b[0m\u001b[0;34m\u001b[0m\u001b[0;34m\u001b[0m\u001b[0m\n\u001b[0m\u001b[1;32m    987\u001b[0m                 \u001b[0;32mpass\u001b[0m\u001b[0;34m\u001b[0m\u001b[0;34m\u001b[0m\u001b[0m\n\u001b[1;32m    988\u001b[0m \u001b[0;34m\u001b[0m\u001b[0m\n",
            "\u001b[0;32m/usr/local/lib/python3.6/dist-packages/joblib/parallel.py\u001b[0m in \u001b[0;36mdispatch_one_batch\u001b[0;34m(self, iterator)\u001b[0m\n\u001b[1;32m    823\u001b[0m                 \u001b[0;32mreturn\u001b[0m \u001b[0;32mFalse\u001b[0m\u001b[0;34m\u001b[0m\u001b[0;34m\u001b[0m\u001b[0m\n\u001b[1;32m    824\u001b[0m             \u001b[0;32melse\u001b[0m\u001b[0;34m:\u001b[0m\u001b[0;34m\u001b[0m\u001b[0;34m\u001b[0m\u001b[0m\n\u001b[0;32m--> 825\u001b[0;31m                 \u001b[0mself\u001b[0m\u001b[0;34m.\u001b[0m\u001b[0m_dispatch\u001b[0m\u001b[0;34m(\u001b[0m\u001b[0mtasks\u001b[0m\u001b[0;34m)\u001b[0m\u001b[0;34m\u001b[0m\u001b[0;34m\u001b[0m\u001b[0m\n\u001b[0m\u001b[1;32m    826\u001b[0m                 \u001b[0;32mreturn\u001b[0m \u001b[0;32mTrue\u001b[0m\u001b[0;34m\u001b[0m\u001b[0;34m\u001b[0m\u001b[0m\n\u001b[1;32m    827\u001b[0m \u001b[0;34m\u001b[0m\u001b[0m\n",
            "\u001b[0;32m/usr/local/lib/python3.6/dist-packages/joblib/parallel.py\u001b[0m in \u001b[0;36m_dispatch\u001b[0;34m(self, batch)\u001b[0m\n\u001b[1;32m    780\u001b[0m         \u001b[0;32mwith\u001b[0m \u001b[0mself\u001b[0m\u001b[0;34m.\u001b[0m\u001b[0m_lock\u001b[0m\u001b[0;34m:\u001b[0m\u001b[0;34m\u001b[0m\u001b[0;34m\u001b[0m\u001b[0m\n\u001b[1;32m    781\u001b[0m             \u001b[0mjob_idx\u001b[0m \u001b[0;34m=\u001b[0m \u001b[0mlen\u001b[0m\u001b[0;34m(\u001b[0m\u001b[0mself\u001b[0m\u001b[0;34m.\u001b[0m\u001b[0m_jobs\u001b[0m\u001b[0;34m)\u001b[0m\u001b[0;34m\u001b[0m\u001b[0;34m\u001b[0m\u001b[0m\n\u001b[0;32m--> 782\u001b[0;31m             \u001b[0mjob\u001b[0m \u001b[0;34m=\u001b[0m \u001b[0mself\u001b[0m\u001b[0;34m.\u001b[0m\u001b[0m_backend\u001b[0m\u001b[0;34m.\u001b[0m\u001b[0mapply_async\u001b[0m\u001b[0;34m(\u001b[0m\u001b[0mbatch\u001b[0m\u001b[0;34m,\u001b[0m \u001b[0mcallback\u001b[0m\u001b[0;34m=\u001b[0m\u001b[0mcb\u001b[0m\u001b[0;34m)\u001b[0m\u001b[0;34m\u001b[0m\u001b[0;34m\u001b[0m\u001b[0m\n\u001b[0m\u001b[1;32m    783\u001b[0m             \u001b[0;31m# A job can complete so quickly than its callback is\u001b[0m\u001b[0;34m\u001b[0m\u001b[0;34m\u001b[0m\u001b[0;34m\u001b[0m\u001b[0m\n\u001b[1;32m    784\u001b[0m             \u001b[0;31m# called before we get here, causing self._jobs to\u001b[0m\u001b[0;34m\u001b[0m\u001b[0;34m\u001b[0m\u001b[0;34m\u001b[0m\u001b[0m\n",
            "\u001b[0;32m/usr/local/lib/python3.6/dist-packages/joblib/_parallel_backends.py\u001b[0m in \u001b[0;36mapply_async\u001b[0;34m(self, func, callback)\u001b[0m\n\u001b[1;32m    180\u001b[0m     \u001b[0;32mdef\u001b[0m \u001b[0mapply_async\u001b[0m\u001b[0;34m(\u001b[0m\u001b[0mself\u001b[0m\u001b[0;34m,\u001b[0m \u001b[0mfunc\u001b[0m\u001b[0;34m,\u001b[0m \u001b[0mcallback\u001b[0m\u001b[0;34m=\u001b[0m\u001b[0;32mNone\u001b[0m\u001b[0;34m)\u001b[0m\u001b[0;34m:\u001b[0m\u001b[0;34m\u001b[0m\u001b[0;34m\u001b[0m\u001b[0m\n\u001b[1;32m    181\u001b[0m         \u001b[0;34m\"\"\"Schedule a func to be run\"\"\"\u001b[0m\u001b[0;34m\u001b[0m\u001b[0;34m\u001b[0m\u001b[0m\n\u001b[0;32m--> 182\u001b[0;31m         \u001b[0mresult\u001b[0m \u001b[0;34m=\u001b[0m \u001b[0mImmediateResult\u001b[0m\u001b[0;34m(\u001b[0m\u001b[0mfunc\u001b[0m\u001b[0;34m)\u001b[0m\u001b[0;34m\u001b[0m\u001b[0;34m\u001b[0m\u001b[0m\n\u001b[0m\u001b[1;32m    183\u001b[0m         \u001b[0;32mif\u001b[0m \u001b[0mcallback\u001b[0m\u001b[0;34m:\u001b[0m\u001b[0;34m\u001b[0m\u001b[0;34m\u001b[0m\u001b[0m\n\u001b[1;32m    184\u001b[0m             \u001b[0mcallback\u001b[0m\u001b[0;34m(\u001b[0m\u001b[0mresult\u001b[0m\u001b[0;34m)\u001b[0m\u001b[0;34m\u001b[0m\u001b[0;34m\u001b[0m\u001b[0m\n",
            "\u001b[0;32m/usr/local/lib/python3.6/dist-packages/joblib/_parallel_backends.py\u001b[0m in \u001b[0;36m__init__\u001b[0;34m(self, batch)\u001b[0m\n\u001b[1;32m    543\u001b[0m         \u001b[0;31m# Don't delay the application, to avoid keeping the input\u001b[0m\u001b[0;34m\u001b[0m\u001b[0;34m\u001b[0m\u001b[0;34m\u001b[0m\u001b[0m\n\u001b[1;32m    544\u001b[0m         \u001b[0;31m# arguments in memory\u001b[0m\u001b[0;34m\u001b[0m\u001b[0;34m\u001b[0m\u001b[0;34m\u001b[0m\u001b[0m\n\u001b[0;32m--> 545\u001b[0;31m         \u001b[0mself\u001b[0m\u001b[0;34m.\u001b[0m\u001b[0mresults\u001b[0m \u001b[0;34m=\u001b[0m \u001b[0mbatch\u001b[0m\u001b[0;34m(\u001b[0m\u001b[0;34m)\u001b[0m\u001b[0;34m\u001b[0m\u001b[0;34m\u001b[0m\u001b[0m\n\u001b[0m\u001b[1;32m    546\u001b[0m \u001b[0;34m\u001b[0m\u001b[0m\n\u001b[1;32m    547\u001b[0m     \u001b[0;32mdef\u001b[0m \u001b[0mget\u001b[0m\u001b[0;34m(\u001b[0m\u001b[0mself\u001b[0m\u001b[0;34m)\u001b[0m\u001b[0;34m:\u001b[0m\u001b[0;34m\u001b[0m\u001b[0;34m\u001b[0m\u001b[0m\n",
            "\u001b[0;32m/usr/local/lib/python3.6/dist-packages/joblib/parallel.py\u001b[0m in \u001b[0;36m__call__\u001b[0;34m(self)\u001b[0m\n\u001b[1;32m    259\u001b[0m         \u001b[0;32mwith\u001b[0m \u001b[0mparallel_backend\u001b[0m\u001b[0;34m(\u001b[0m\u001b[0mself\u001b[0m\u001b[0;34m.\u001b[0m\u001b[0m_backend\u001b[0m\u001b[0;34m)\u001b[0m\u001b[0;34m:\u001b[0m\u001b[0;34m\u001b[0m\u001b[0;34m\u001b[0m\u001b[0m\n\u001b[1;32m    260\u001b[0m             return [func(*args, **kwargs)\n\u001b[0;32m--> 261\u001b[0;31m                     for func, args, kwargs in self.items]\n\u001b[0m\u001b[1;32m    262\u001b[0m \u001b[0;34m\u001b[0m\u001b[0m\n\u001b[1;32m    263\u001b[0m     \u001b[0;32mdef\u001b[0m \u001b[0m__len__\u001b[0m\u001b[0;34m(\u001b[0m\u001b[0mself\u001b[0m\u001b[0;34m)\u001b[0m\u001b[0;34m:\u001b[0m\u001b[0;34m\u001b[0m\u001b[0;34m\u001b[0m\u001b[0m\n",
            "\u001b[0;32m/usr/local/lib/python3.6/dist-packages/joblib/parallel.py\u001b[0m in \u001b[0;36m<listcomp>\u001b[0;34m(.0)\u001b[0m\n\u001b[1;32m    259\u001b[0m         \u001b[0;32mwith\u001b[0m \u001b[0mparallel_backend\u001b[0m\u001b[0;34m(\u001b[0m\u001b[0mself\u001b[0m\u001b[0;34m.\u001b[0m\u001b[0m_backend\u001b[0m\u001b[0;34m)\u001b[0m\u001b[0;34m:\u001b[0m\u001b[0;34m\u001b[0m\u001b[0;34m\u001b[0m\u001b[0m\n\u001b[1;32m    260\u001b[0m             return [func(*args, **kwargs)\n\u001b[0;32m--> 261\u001b[0;31m                     for func, args, kwargs in self.items]\n\u001b[0m\u001b[1;32m    262\u001b[0m \u001b[0;34m\u001b[0m\u001b[0m\n\u001b[1;32m    263\u001b[0m     \u001b[0;32mdef\u001b[0m \u001b[0m__len__\u001b[0m\u001b[0;34m(\u001b[0m\u001b[0mself\u001b[0m\u001b[0;34m)\u001b[0m\u001b[0;34m:\u001b[0m\u001b[0;34m\u001b[0m\u001b[0;34m\u001b[0m\u001b[0m\n",
            "\u001b[0;32m/usr/local/lib/python3.6/dist-packages/sklearn/ensemble/forest.py\u001b[0m in \u001b[0;36m_parallel_build_trees\u001b[0;34m(tree, forest, X, y, sample_weight, tree_idx, n_trees, verbose, class_weight)\u001b[0m\n\u001b[1;32m    116\u001b[0m             \u001b[0mcurr_sample_weight\u001b[0m \u001b[0;34m*=\u001b[0m \u001b[0mcompute_sample_weight\u001b[0m\u001b[0;34m(\u001b[0m\u001b[0;34m'balanced'\u001b[0m\u001b[0;34m,\u001b[0m \u001b[0my\u001b[0m\u001b[0;34m,\u001b[0m \u001b[0mindices\u001b[0m\u001b[0;34m)\u001b[0m\u001b[0;34m\u001b[0m\u001b[0;34m\u001b[0m\u001b[0m\n\u001b[1;32m    117\u001b[0m \u001b[0;34m\u001b[0m\u001b[0m\n\u001b[0;32m--> 118\u001b[0;31m         \u001b[0mtree\u001b[0m\u001b[0;34m.\u001b[0m\u001b[0mfit\u001b[0m\u001b[0;34m(\u001b[0m\u001b[0mX\u001b[0m\u001b[0;34m,\u001b[0m \u001b[0my\u001b[0m\u001b[0;34m,\u001b[0m \u001b[0msample_weight\u001b[0m\u001b[0;34m=\u001b[0m\u001b[0mcurr_sample_weight\u001b[0m\u001b[0;34m,\u001b[0m \u001b[0mcheck_input\u001b[0m\u001b[0;34m=\u001b[0m\u001b[0;32mFalse\u001b[0m\u001b[0;34m)\u001b[0m\u001b[0;34m\u001b[0m\u001b[0;34m\u001b[0m\u001b[0m\n\u001b[0m\u001b[1;32m    119\u001b[0m     \u001b[0;32melse\u001b[0m\u001b[0;34m:\u001b[0m\u001b[0;34m\u001b[0m\u001b[0;34m\u001b[0m\u001b[0m\n\u001b[1;32m    120\u001b[0m         \u001b[0mtree\u001b[0m\u001b[0;34m.\u001b[0m\u001b[0mfit\u001b[0m\u001b[0;34m(\u001b[0m\u001b[0mX\u001b[0m\u001b[0;34m,\u001b[0m \u001b[0my\u001b[0m\u001b[0;34m,\u001b[0m \u001b[0msample_weight\u001b[0m\u001b[0;34m=\u001b[0m\u001b[0msample_weight\u001b[0m\u001b[0;34m,\u001b[0m \u001b[0mcheck_input\u001b[0m\u001b[0;34m=\u001b[0m\u001b[0;32mFalse\u001b[0m\u001b[0;34m)\u001b[0m\u001b[0;34m\u001b[0m\u001b[0;34m\u001b[0m\u001b[0m\n",
            "\u001b[0;32m/usr/local/lib/python3.6/dist-packages/sklearn/tree/tree.py\u001b[0m in \u001b[0;36mfit\u001b[0;34m(self, X, y, sample_weight, check_input, X_idx_sorted)\u001b[0m\n\u001b[1;32m    814\u001b[0m             \u001b[0msample_weight\u001b[0m\u001b[0;34m=\u001b[0m\u001b[0msample_weight\u001b[0m\u001b[0;34m,\u001b[0m\u001b[0;34m\u001b[0m\u001b[0;34m\u001b[0m\u001b[0m\n\u001b[1;32m    815\u001b[0m             \u001b[0mcheck_input\u001b[0m\u001b[0;34m=\u001b[0m\u001b[0mcheck_input\u001b[0m\u001b[0;34m,\u001b[0m\u001b[0;34m\u001b[0m\u001b[0;34m\u001b[0m\u001b[0m\n\u001b[0;32m--> 816\u001b[0;31m             X_idx_sorted=X_idx_sorted)\n\u001b[0m\u001b[1;32m    817\u001b[0m         \u001b[0;32mreturn\u001b[0m \u001b[0mself\u001b[0m\u001b[0;34m\u001b[0m\u001b[0;34m\u001b[0m\u001b[0m\n\u001b[1;32m    818\u001b[0m \u001b[0;34m\u001b[0m\u001b[0m\n",
            "\u001b[0;32m/usr/local/lib/python3.6/dist-packages/sklearn/tree/tree.py\u001b[0m in \u001b[0;36mfit\u001b[0;34m(self, X, y, sample_weight, check_input, X_idx_sorted)\u001b[0m\n\u001b[1;32m    378\u001b[0m                                            min_impurity_split)\n\u001b[1;32m    379\u001b[0m \u001b[0;34m\u001b[0m\u001b[0m\n\u001b[0;32m--> 380\u001b[0;31m         \u001b[0mbuilder\u001b[0m\u001b[0;34m.\u001b[0m\u001b[0mbuild\u001b[0m\u001b[0;34m(\u001b[0m\u001b[0mself\u001b[0m\u001b[0;34m.\u001b[0m\u001b[0mtree_\u001b[0m\u001b[0;34m,\u001b[0m \u001b[0mX\u001b[0m\u001b[0;34m,\u001b[0m \u001b[0my\u001b[0m\u001b[0;34m,\u001b[0m \u001b[0msample_weight\u001b[0m\u001b[0;34m,\u001b[0m \u001b[0mX_idx_sorted\u001b[0m\u001b[0;34m)\u001b[0m\u001b[0;34m\u001b[0m\u001b[0;34m\u001b[0m\u001b[0m\n\u001b[0m\u001b[1;32m    381\u001b[0m \u001b[0;34m\u001b[0m\u001b[0m\n\u001b[1;32m    382\u001b[0m         \u001b[0;32mif\u001b[0m \u001b[0mself\u001b[0m\u001b[0;34m.\u001b[0m\u001b[0mn_outputs_\u001b[0m \u001b[0;34m==\u001b[0m \u001b[0;36m1\u001b[0m\u001b[0;34m:\u001b[0m\u001b[0;34m\u001b[0m\u001b[0;34m\u001b[0m\u001b[0m\n",
            "\u001b[0;31mKeyboardInterrupt\u001b[0m: "
          ]
        }
      ]
    },
    {
      "cell_type": "markdown",
      "metadata": {
        "id": "SyvxgNvKxWah",
        "colab_type": "text"
      },
      "source": [
        "**Final Model**"
      ]
    },
    {
      "cell_type": "code",
      "metadata": {
        "id": "Nw4qbsqNv66S",
        "colab_type": "code",
        "colab": {
          "base_uri": "https://localhost:8080/",
          "height": 73
        },
        "outputId": "54ba7c43-55c6-4533-a6d2-b8ccd4a436a3"
      },
      "source": [
        "rf = RandomForestClassifier(n_estimators = 200, random_state = random.randint(1,100),class_weight=None)\n",
        "rf.fit(X_train_df, y_train_df);\n",
        "y_pred_rf = rf.predict(X_test)\n",
        "y_pred_rf_prob=rf.predict_proba(X_test)\n"
      ],
      "execution_count": 284,
      "outputs": [
        {
          "output_type": "stream",
          "text": [
            "/usr/local/lib/python3.6/dist-packages/ipykernel_launcher.py:2: DataConversionWarning: A column-vector y was passed when a 1d array was expected. Please change the shape of y to (n_samples,), for example using ravel().\n",
            "  \n"
          ],
          "name": "stderr"
        }
      ]
    },
    {
      "cell_type": "code",
      "metadata": {
        "id": "nN-HEpM9xgYX",
        "colab_type": "code",
        "colab": {
          "base_uri": "https://localhost:8080/",
          "height": 354
        },
        "outputId": "bf52e178-730c-4777-f091-a88dd0030bd1"
      },
      "source": [
        "acc=accuracy_score(y_test,np.round(y_pred_rf))\n",
        "print(acc)\n",
        "print(classification_report(y_test, y_pred_rf))\n",
        "conf_mat=confusion_matrix(y_test,np.round(y_pred_rf))\n",
        "conf_mat\n",
        "\n",
        "plt.figure(figsize=(2,2))\n",
        "sns.heatmap(conf_mat,annot=True,cmap='PuBu',fmt=\"d\",linewidths=.5)\n",
        "plt.xlabel('Predicted Label')\n",
        "plt.ylabel('True Label')\n",
        "plt.show()"
      ],
      "execution_count": 285,
      "outputs": [
        {
          "output_type": "stream",
          "text": [
            "0.969640731849999\n",
            "              precision    recall  f1-score   support\n",
            "\n",
            "         0.0       0.12      0.10      0.11       943\n",
            "         1.0       0.98      0.99      0.98     48630\n",
            "\n",
            "    accuracy                           0.97     49573\n",
            "   macro avg       0.55      0.54      0.55     49573\n",
            "weighted avg       0.97      0.97      0.97     49573\n",
            "\n"
          ],
          "name": "stdout"
        },
        {
          "output_type": "display_data",
          "data": {
            "image/png": "[encoded data removed]",
            "text/plain": [
              "<Figure size 144x144 with 2 Axes>"
            ]
          },
          "metadata": {
            "tags": []
          }
        }
      ]
    },
    {
      "cell_type": "code",
      "metadata": {
        "id": "fT_BHJTFx61c",
        "colab_type": "code",
        "colab": {
          "base_uri": "https://localhost:8080/",
          "height": 160
        },
        "outputId": "e3cd5c13-4e3a-4343-d256-56467f40055e"
      },
      "source": [
        "print('Probabilities either question will be answered before or after 7 days:')\n",
        "y_pred_rf_prob"
      ],
      "execution_count": 287,
      "outputs": [
        {
          "output_type": "stream",
          "text": [
            "Probabilities either question will be answered before or after 7 days:\n"
          ],
          "name": "stdout"
        },
        {
          "output_type": "execute_result",
          "data": {
            "text/plain": [
              "array([[0.  , 1.  ],\n",
              "       [0.  , 1.  ],\n",
              "       [0.  , 1.  ],\n",
              "       ...,\n",
              "       [0.  , 1.  ],\n",
              "       [0.  , 1.  ],\n",
              "       [0.58, 0.42]])"
            ]
          },
          "metadata": {
            "tags": []
          },
          "execution_count": 287
        }
      ]
    },
    {
      "cell_type": "code",
      "metadata": {
        "id": "FsiWdYV-y0JE",
        "colab_type": "code",
        "colab": {}
      },
      "source": [
        ""
      ],
      "execution_count": 0,
      "outputs": []
    }
  ]
}